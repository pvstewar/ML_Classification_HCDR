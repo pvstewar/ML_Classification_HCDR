{
 "cells": [
  {
   "attachments": {},
   "cell_type": "markdown",
   "metadata": {},
   "source": [
    "## Part 4- Pytorch Lightning Implementation \n",
    "\n",
    "Created by Michael Casey, Andrew Cruez, Peter Stewart, and Hemraj Yadav"
   ]
  },
  {
   "attachments": {},
   "cell_type": "markdown",
   "metadata": {},
   "source": [
    "__About Part 4__\n",
    "\n",
    "A continuation of the HCDR classification project, this part will focus on implimentation of an artificail neural network using Pytorch. We will use the same datasets created in part 2 but in this case we'll model exclusively using PyTorch Lightning."
   ]
  },
  {
   "cell_type": "code",
   "execution_count": 1,
   "metadata": {},
   "outputs": [
    {
     "name": "stderr",
     "output_type": "stream",
     "text": [
      "/home/pete/Documents/ML_code/mlenv/lib/python3.10/site-packages/tqdm/auto.py:21: TqdmWarning: IProgress not found. Please update jupyter and ipywidgets. See https://ipywidgets.readthedocs.io/en/stable/user_install.html\n",
      "  from .autonotebook import tqdm as notebook_tqdm\n"
     ]
    }
   ],
   "source": [
    "import lightning \n",
    "import pytorch_lightning as pl\n",
    "import torch \n",
    "import torch.nn as nn \n",
    "from lightning import Callback\n",
    "from pytorch_lightning.callbacks import ModelCheckpoint\n",
    "from torchmetrics import Accuracy\n",
    "import sys\n",
    "from torch.utils.data import DataLoader\n",
    "from torch.utils.data import random_split\n",
    "import numpy as np\n",
    "from sklearn.compose import ColumnTransformer\n",
    "from sklearn.pipeline import Pipeline, FeatureUnion\n",
    "from sklearn.preprocessing import StandardScaler\n",
    "from sklearn.preprocessing import OneHotEncoder\n",
    "from sklearn.impute import SimpleImputer\n",
    "import pandas as pd\n",
    "import pickle\n",
    "# from torchvision import transforms\n",
    "sys.path.insert(0, '..')\n",
    "\n"
   ]
  },
  {
   "cell_type": "code",
   "execution_count": 2,
   "metadata": {},
   "outputs": [],
   "source": [
    "#Load data from part 3\n",
    "DATA_DIR = \"./Data\"\n",
    "\n",
    "with open(f\"{DATA_DIR}/X_train.pkl\", 'rb') as aa:\n",
    "    X_train = pickle.load(aa)\n",
    "\n",
    "with open(f\"{DATA_DIR}/X_test.pkl\", 'rb') as bb:\n",
    "    X_test = pickle.load(bb)\n",
    "\n",
    "with open(f\"{DATA_DIR}/y_train.pkl\", 'rb') as cc:\n",
    "    y_train = pickle.load(cc)\n",
    "\n",
    "with open(f\"{DATA_DIR}/y_test.pkl\", 'rb') as dd:\n",
    "    y_test = pickle.load(dd)\n",
    "\n",
    "with open(f\"{DATA_DIR}/X_valid.pkl\", 'rb') as ee:\n",
    "    X_valid = pickle.load(ee)\n",
    "\n",
    "with open(f\"{DATA_DIR}/y_valid.pkl\", 'rb') as ff:\n",
    "    y_valid = pickle.load(ff)\n",
    "\n",
    "with open(f\"{DATA_DIR}/X_test_SA.pkl\", 'rb') as gg:\n",
    "    X_test_SA = pickle.load(gg)"
   ]
  },
  {
   "attachments": {},
   "cell_type": "markdown",
   "metadata": {},
   "source": [
    "# Pytorch Preprocessing Pipeline"
   ]
  },
  {
   "cell_type": "code",
   "execution_count": 3,
   "metadata": {},
   "outputs": [
    {
     "name": "stdout",
     "output_type": "stream",
     "text": [
      "X_train col number is: 1297\n",
      "X_test col number is: 1297\n",
      "X_valid col number is: 1297\n",
      "Total of num and cat columns is: 1297\n",
      "<class 'pandas.core.frame.DataFrame'>\n",
      "Int64Index: 209107 entries, 35339 to 212146\n",
      "Columns: 1297 entries, NAME_CONTRACT_TYPE to SUM(previous_FT.SELLERPLACE_AREA)\n",
      "dtypes: float64(1233), int64(44), object(20)\n",
      "memory usage: 2.0+ GB\n"
     ]
    }
   ],
   "source": [
    "#Now let's determine which features are categorical or numerical for our X_train_FT dataset\n",
    "numerical_at = X_train.select_dtypes(include=['int64', 'float64']).columns\n",
    "categorical_at = X_train.select_dtypes(include=['object', 'bool']).columns\n",
    "X_train[categorical_at]=X_train[categorical_at].astype(str)\n",
    "X_test[categorical_at]=X_test[categorical_at].astype(str)\n",
    "X_valid[categorical_at]=X_valid[categorical_at].astype(str)\n",
    "tot_from_above = (len(numerical_at)+len(categorical_at))\n",
    "print (f\"X_train col number is: {X_train.shape[1]}\")\n",
    "print (f\"X_test col number is: {X_test.shape[1]}\")\n",
    "print (f\"X_valid col number is: {X_valid.shape[1]}\")\n",
    "print (f\"Total of num and cat columns is: {tot_from_above}\")\n",
    "X_train.info()"
   ]
  },
  {
   "cell_type": "code",
   "execution_count": 4,
   "metadata": {},
   "outputs": [],
   "source": [
    "BL_num_pipeline = Pipeline([\n",
    "        ('imputer', SimpleImputer(strategy='median')),\n",
    "        ('scaler', StandardScaler()),\n",
    "    ])\n",
    "\n",
    "BL_cat_pipeline = Pipeline([\n",
    "        ('imputer', SimpleImputer(strategy='most_frequent')),\n",
    "        ('ohe', OneHotEncoder(handle_unknown=\"ignore\"))\n",
    "    ])\n",
    "\n",
    "# MNB_num_pipeline = Pipeline([\n",
    "#         ('imputer', SimpleImputer(strategy='constant',fill_value= 0)),\n",
    "#         ('scaler', MinMaxScaler()),\n",
    "#     ])\n",
    "\n",
    "# new_num_pipeline = Pipeline([\n",
    "#         ('imputer', SimpleImputer(strategy='constant',fill_value= 0)),\n",
    "#         ('scaler', MinMaxScaler()),\n",
    "#     ])"
   ]
  },
  {
   "cell_type": "code",
   "execution_count": 5,
   "metadata": {},
   "outputs": [],
   "source": [
    "\n",
    "torch_pipeline = ColumnTransformer(transformers=[\n",
    "       (\"num_pipeline\", BL_num_pipeline, numerical_at),\n",
    "       (\"cat_pipeline\", BL_cat_pipeline, categorical_at)],\n",
    "       remainder='drop',\n",
    "        n_jobs=1\n",
    "   )\n",
    "X_train_transformed=  torch_pipeline.fit_transform(X_train)\n",
    "\n",
    "\n",
    "column_names = list(numerical_at) + list(torch_pipeline.transformers_[1][1].named_steps[\"ohe\"].get_feature_names_out(categorical_at))\n",
    "X_train_transformed= (pd.DataFrame(X_train_transformed,  columns=column_names))\n",
    "number_of_inputs = X_train_transformed.shape[1]"
   ]
  },
  {
   "cell_type": "code",
   "execution_count": 6,
   "metadata": {},
   "outputs": [],
   "source": [
    "X_test_transformed= torch_pipeline.fit_transform(X_test)\n",
    "\n",
    "\n",
    "column_names = list(numerical_at) + list(torch_pipeline.transformers_[1][1].named_steps[\"ohe\"].get_feature_names_out(categorical_at))\n",
    "X_test_transformed= (pd.DataFrame(X_test_transformed,  columns=column_names))\n",
    "number_of_inputs = X_test_transformed.shape[1]"
   ]
  },
  {
   "cell_type": "code",
   "execution_count": 7,
   "metadata": {},
   "outputs": [],
   "source": [
    "X_valid_transformed= torch_pipeline.fit_transform(X_valid)\n",
    "\n",
    "\n",
    "column_names = list(numerical_at) + list(torch_pipeline.transformers_[1][1].named_steps[\"ohe\"].get_feature_names_out(categorical_at))\n",
    "X_valid_transformed= (pd.DataFrame(X_valid_transformed,  columns=column_names))\n",
    "number_of_inputs = X_valid_transformed.shape[1]"
   ]
  },
  {
   "cell_type": "code",
   "execution_count": 8,
   "metadata": {},
   "outputs": [
    {
     "name": "stdout",
     "output_type": "stream",
     "text": [
      "0\n"
     ]
    },
    {
     "data": {
      "text/plain": [
       "(209107, 1431)"
      ]
     },
     "execution_count": 8,
     "metadata": {},
     "output_type": "execute_result"
    }
   ],
   "source": [
    "drop_list = (X_train_transformed.columns.difference(X_test_transformed.columns))\n",
    "print(len(drop_list))\n",
    "drop_list\n",
    "X_train_transformed = X_train_transformed.drop(drop_list, axis=1)\n",
    "X_train_transformed.shape"
   ]
  },
  {
   "cell_type": "code",
   "execution_count": 9,
   "metadata": {},
   "outputs": [
    {
     "name": "stdout",
     "output_type": "stream",
     "text": [
      "2\n"
     ]
    },
    {
     "data": {
      "text/plain": [
       "(209107, 1429)"
      ]
     },
     "execution_count": 9,
     "metadata": {},
     "output_type": "execute_result"
    }
   ],
   "source": [
    "drop_list = (X_train_transformed.columns.difference(X_valid_transformed.columns))\n",
    "print(len(drop_list))\n",
    "X_train_transformed = X_train_transformed.drop(drop_list, axis=1)\n",
    "X_train_transformed.shape"
   ]
  },
  {
   "cell_type": "code",
   "execution_count": 10,
   "metadata": {},
   "outputs": [
    {
     "name": "stdout",
     "output_type": "stream",
     "text": [
      "2\n"
     ]
    },
    {
     "data": {
      "text/plain": [
       "(46127, 1429)"
      ]
     },
     "execution_count": 10,
     "metadata": {},
     "output_type": "execute_result"
    }
   ],
   "source": [
    "drop_list = (X_test_transformed.columns.difference(X_valid_transformed.columns))\n",
    "print(len(drop_list))\n",
    "X_test_transformed = X_test_transformed.drop(drop_list, axis=1)\n",
    "X_test_transformed.shape"
   ]
  },
  {
   "cell_type": "code",
   "execution_count": 11,
   "metadata": {},
   "outputs": [
    {
     "name": "stdout",
     "output_type": "stream",
     "text": [
      "(209107, 1429)\n",
      "(46127, 1429)\n",
      "(52277, 1429)\n"
     ]
    }
   ],
   "source": [
    "print(X_train_transformed.shape)\n",
    "print(X_test_transformed.shape)\n",
    "print(X_valid_transformed.shape)"
   ]
  },
  {
   "cell_type": "code",
   "execution_count": null,
   "metadata": {},
   "outputs": [],
   "source": [
    "X_train_transformed.to_csv(f'{DATA_DIR}/X_train_pt.csv',index=False)\n",
    "X_test_transformed.to_csv(f'{DATA_DIR}/X_test_pt.csv',index=False)\n",
    "X_valid_transformed.to_csv(f'{DATA_DIR}/X_valid_pt.csv',index=False)"
   ]
  },
  {
   "cell_type": "code",
   "execution_count": 25,
   "metadata": {},
   "outputs": [],
   "source": [
    "y_train.to_csv(f'{DATA_DIR}/y_train_pt.csv',index=False)\n",
    "y_test.to_csv(f'{DATA_DIR}/y_test_pt.csv',index=False)\n",
    "y_valid.to_csv(f'{DATA_DIR}/y_valid_pt.csv',index=False)"
   ]
  },
  {
   "cell_type": "code",
   "execution_count": 12,
   "metadata": {},
   "outputs": [
    {
     "name": "stdout",
     "output_type": "stream",
     "text": [
      "(209107, 1429)\n"
     ]
    }
   ],
   "source": [
    "print(X_train_transformed.shape)"
   ]
  },
  {
   "cell_type": "code",
   "execution_count": 13,
   "metadata": {},
   "outputs": [],
   "source": [
    "class MultiLayerPerceptron(pl.LightningModule):\n",
    "    def __init__(self, input_size=(1429), hidden_units=(32, 16)):\n",
    "        super().__init__()\n",
    "        \n",
    "        # new PL attributes:\n",
    "        self.train_acc = Accuracy(\"binary\", num_classes=2)  #change to binary class and 2 for HCDR\n",
    "        self.valid_acc = Accuracy(\"binary\", num_classes=2)\n",
    "        self.test_acc = Accuracy(\"binary\",num_classes=2)\n",
    "        \n",
    "        # Model similar to previous section:parse=False\n",
    "        input_size = input_size\n",
    "        all_layers = [nn.Linear(input_size, hidden_units[0]),\n",
    "                      nn.ReLU(),\n",
    "                      nn.Linear(hidden_units[0], hidden_units[1]),\n",
    "                      nn.ReLU(),\n",
    "                      nn.Linear(hidden_units[1], 2)\n",
    "                      ]\n",
    "        # for hidden_unit in hidden_units: \n",
    " \n",
    "        # all_layers.append(nn.Linear(hidden_units[-1], 10)) \n",
    "        self.model = nn.Sequential(*all_layers)\n",
    "\n",
    "    def forward(self, x):\n",
    "        x = self.model(x)\n",
    "        return x\n",
    "\n",
    "    def training_step(self, batch, batch_idx):\n",
    "        # add in a loss layer\n",
    "        x, y = batch\n",
    "        logits = self(x)\n",
    "        loss = nn.functional.cross_entropy(logits, y.squeeze().long())\n",
    "        preds = torch.argmax(logits, dim=1)\n",
    "        self.train_acc.update(preds, y.squeeze().long())\n",
    "        self.log(\"train_loss\", loss, prog_bar=True)\n",
    "        return loss\n",
    "\n",
    "    def on_train_epoch_end(self):\n",
    "        self.log(\"train_acc\", self.train_acc.compute())\n",
    "        self.train_acc.reset()\n",
    "    \n",
    "    def validation_step(self, batch, batch_idx):\n",
    "        x, y = batch\n",
    "        logits = self(x)\n",
    "        loss = nn.functional.cross_entropy(logits, y.squeeze().long())\n",
    "        preds = torch.argmax(logits, dim=1)\n",
    "        self.valid_acc.update(preds, y.squeeze().long())\n",
    "        self.log(\"valid_loss\", loss, prog_bar=True)\n",
    "        return loss\n",
    "    \n",
    "    def on_validation_epoch_end(self):\n",
    "        self.log(\"valid_acc\", self.valid_acc.compute(), prog_bar=True)\n",
    "        self.valid_acc.reset()\n",
    "\n",
    "    def test_step(self, batch, batch_idx):\n",
    "        x, y = batch\n",
    "        logits = self(x)\n",
    "        loss = nn.functional.cross_entropy(logits, y.squeeze().long())\n",
    "        preds = torch.argmax(logits, dim=1)\n",
    "        self.test_acc.update(preds, y.squeeze().long())\n",
    "        self.log(\"test_loss\", loss, prog_bar=True)\n",
    "        self.log(\"test_acc\", self.test_acc.compute(), prog_bar=True)\n",
    "        return loss\n",
    "\n",
    "    def configure_optimizers(self):\n",
    "        optimizer = torch.optim.Adam(self.parameters(), lr=0.001)\n",
    "        return optimizer"
   ]
  },
  {
   "cell_type": "code",
   "execution_count": 14,
   "metadata": {},
   "outputs": [
    {
     "data": {
      "text/plain": [
       "<torch._C.Generator at 0x7fad8ffc82d0>"
      ]
     },
     "execution_count": 14,
     "metadata": {},
     "output_type": "execute_result"
    }
   ],
   "source": [
    "import pandas as pd\n",
    "\n",
    "class HCDR_DataModule(pl.LightningDataModule):\n",
    "    \"\"\" Data module for HCDR\n",
    "    Load data from CSV and convert into a numpy array, \n",
    "    then into Pytorch Tensor \n",
    "    and then into a Tensor Dataset\n",
    "    \"\"\"\n",
    "    def __init__(self, data_path=f\"{DATA_DIR}/\", batchsize = 2**14):\n",
    "        super().__init__()\n",
    "        self.data_path = data_path\n",
    "        self.batchsize = batchsize\n",
    "        #self.transform = transforms.Compose([transforms.ToTensor()])\n",
    "        \n",
    "    def prepare_data(self):\n",
    "        pass \n",
    "\n",
    "    def setup(self, stage=None):\n",
    "\n",
    "\n",
    "        df = pd.read_csv(self.data_path + \"X_train_pt.csv\")\n",
    "        df.reset_index()\n",
    "        df.fillna(0)\n",
    "        df = df.astype(np.float32)\n",
    "        X = torch.Tensor(df.values)\n",
    "        df = pd.read_csv(self.data_path + \"y_train_pt.csv\")\n",
    "        df.reset_index()\n",
    "        np.nan_to_num(df, nan=0)\n",
    "        df = df.astype(np.float32)\n",
    "        y = torch.Tensor(df.values.reshape(-1,1))\n",
    "        self.train = torch.utils.data.TensorDataset(X, y)\n",
    "        df = pd.read_csv(self.data_path + \"X_valid_pt.csv\")\n",
    "        df.reset_index()\n",
    "        df.fillna(0)\n",
    "        df = df.astype(np.float32)\n",
    "        X = torch.Tensor(df.values)\n",
    "        df = pd.read_csv(self.data_path + \"y_valid_pt.csv\")\n",
    "        df.reset_index()\n",
    "        np.nan_to_num(df, nan=0)\n",
    "        df = df.astype(np.float32)      \n",
    "        y = torch.Tensor(df.values.reshape(-1,1))\n",
    "        self.val = torch.utils.data.TensorDataset(X, y)\n",
    "        df = pd.read_csv(self.data_path + \"X_test_pt.csv\")\n",
    "        df.reset_index()\n",
    "        df.fillna(0)\n",
    "        df = df.astype(np.float32)      \n",
    "        X = torch.Tensor(df.values)\n",
    "        df = pd.read_csv(self.data_path + \"y_test_pt.csv\")\n",
    "        df.reset_index()\n",
    "        np.nan_to_num(df, nan=0)\n",
    "        df = df.astype(np.float32)\n",
    "        y = torch.Tensor(df.values.reshape(-1,1))\n",
    "        self.test = torch.utils.data.TensorDataset(X, y)\n",
    " \n",
    "\n",
    "\n",
    "    def train_dataloader(self):\n",
    "        return DataLoader(self.train, batch_size=self.batchsize, num_workers=4)\n",
    "\n",
    "    def val_dataloader(self):\n",
    "        return DataLoader(self.val, batch_size=self.batchsize, num_workers=4)\n",
    "\n",
    "    def test_dataloader(self):\n",
    "        return DataLoader(self.test, batch_size=self.batchsize, num_workers=4)\n",
    "    \n",
    "    \n",
    "torch.manual_seed(1) "
   ]
  },
  {
   "cell_type": "code",
   "execution_count": 15,
   "metadata": {},
   "outputs": [
    {
     "name": "stdout",
     "output_type": "stream",
     "text": [
      "no gpu\n",
      "2.4.0+cu121\n"
     ]
    }
   ],
   "source": [
    "if torch.cuda.is_available(): # if you have GPUs\n",
    "    print(\"GPU is available\")\n",
    "    print(torch.__version__)\n",
    "else:\n",
    "    print(\"no gpu\")\n",
    "    print(torch.__version__)"
   ]
  },
  {
   "cell_type": "code",
   "execution_count": 21,
   "metadata": {},
   "outputs": [
    {
     "name": "stderr",
     "output_type": "stream",
     "text": [
      "GPU available: False, used: False\n",
      "TPU available: False, using: 0 TPU cores\n",
      "HPU available: False, using: 0 HPUs\n",
      "\n",
      "  | Name      | Type           | Params | Mode \n",
      "-----------------------------------------------------\n",
      "0 | train_acc | BinaryAccuracy | 0      | train\n",
      "1 | valid_acc | BinaryAccuracy | 0      | train\n",
      "2 | test_acc  | BinaryAccuracy | 0      | train\n",
      "3 | model     | Sequential     | 46.3 K | train\n",
      "-----------------------------------------------------\n",
      "46.3 K    Trainable params\n",
      "0         Non-trainable params\n",
      "46.3 K    Total params\n",
      "0.185     Total estimated model params size (MB)\n",
      "9         Modules in train mode\n",
      "0         Modules in eval mode\n"
     ]
    },
    {
     "name": "stdout",
     "output_type": "stream",
     "text": [
      "                                                                           \r"
     ]
    },
    {
     "name": "stderr",
     "output_type": "stream",
     "text": [
      "/home/pete/Documents/ML_code/mlenv/lib/python3.10/site-packages/pytorch_lightning/loops/fit_loop.py:298: The number of training batches (13) is smaller than the logging interval Trainer(log_every_n_steps=50). Set a lower value for log_every_n_steps if you want to see logs for the training epoch.\n"
     ]
    },
    {
     "name": "stdout",
     "output_type": "stream",
     "text": [
      "Epoch 49: 100%|██████████| 13/13 [00:02<00:00,  5.19it/s, v_num=10, train_loss=0.221, valid_loss=0.252, valid_acc=0.916]"
     ]
    },
    {
     "name": "stderr",
     "output_type": "stream",
     "text": [
      "`Trainer.fit` stopped: `max_epochs=50` reached.\n"
     ]
    },
    {
     "name": "stdout",
     "output_type": "stream",
     "text": [
      "Epoch 49: 100%|██████████| 13/13 [00:02<00:00,  5.19it/s, v_num=10, train_loss=0.221, valid_loss=0.252, valid_acc=0.916]\n"
     ]
    }
   ],
   "source": [
    "hcdrclassifier = MultiLayerPerceptron()\n",
    "\n",
    "callbacks = [ModelCheckpoint(save_top_k=1, mode='max', monitor=\"valid_acc\")] # save top 1 model\n",
    "\n",
    "if torch.cuda.is_available(): # if you have GPUs\n",
    "    print(\"GPU is available\")\n",
    "    trainer = pl.Trainer(max_epochs=20, callbacks=callbacks)\n",
    "else:\n",
    "    trainer = pl.Trainer(max_epochs=20, callbacks=callbacks)\n",
    "\n",
    "trainer.fit(model=hcdrclassifier, datamodule=HCDR_DataModule())"
   ]
  },
  {
   "cell_type": "code",
   "execution_count": 22,
   "metadata": {},
   "outputs": [
    {
     "name": "stderr",
     "output_type": "stream",
     "text": [
      "Restoring states from the checkpoint path at /home/pete/Documents/ML_code/ML_Classification_HCDR/lightning_logs/version_10/checkpoints/epoch=9-step=130.ckpt\n",
      "Loaded model weights from the checkpoint at /home/pete/Documents/ML_code/ML_Classification_HCDR/lightning_logs/version_10/checkpoints/epoch=9-step=130.ckpt\n"
     ]
    },
    {
     "name": "stdout",
     "output_type": "stream",
     "text": [
      "Testing DataLoader 0: 100%|██████████| 3/3 [00:00<00:00, 33.54it/s]\n"
     ]
    },
    {
     "data": {
      "text/html": [
       "<pre style=\"white-space:pre;overflow-x:auto;line-height:normal;font-family:Menlo,'DejaVu Sans Mono',consolas,'Courier New',monospace\">┏━━━━━━━━━━━━━━━━━━━━━━━━━━━┳━━━━━━━━━━━━━━━━━━━━━━━━━━━┓\n",
       "┃<span style=\"font-weight: bold\">        Test metric        </span>┃<span style=\"font-weight: bold\">       DataLoader 0        </span>┃\n",
       "┡━━━━━━━━━━━━━━━━━━━━━━━━━━━╇━━━━━━━━━━━━━━━━━━━━━━━━━━━┩\n",
       "│<span style=\"color: #008080; text-decoration-color: #008080\">         test_acc          </span>│<span style=\"color: #800080; text-decoration-color: #800080\">      0.9185791015625      </span>│\n",
       "│<span style=\"color: #008080; text-decoration-color: #008080\">         test_loss         </span>│<span style=\"color: #800080; text-decoration-color: #800080\">    0.24634385108947754    </span>│\n",
       "└───────────────────────────┴───────────────────────────┘\n",
       "</pre>\n"
      ],
      "text/plain": [
       "┏━━━━━━━━━━━━━━━━━━━━━━━━━━━┳━━━━━━━━━━━━━━━━━━━━━━━━━━━┓\n",
       "┃\u001b[1m \u001b[0m\u001b[1m       Test metric       \u001b[0m\u001b[1m \u001b[0m┃\u001b[1m \u001b[0m\u001b[1m      DataLoader 0       \u001b[0m\u001b[1m \u001b[0m┃\n",
       "┡━━━━━━━━━━━━━━━━━━━━━━━━━━━╇━━━━━━━━━━━━━━━━━━━━━━━━━━━┩\n",
       "│\u001b[36m \u001b[0m\u001b[36m        test_acc         \u001b[0m\u001b[36m \u001b[0m│\u001b[35m \u001b[0m\u001b[35m     0.9185791015625     \u001b[0m\u001b[35m \u001b[0m│\n",
       "│\u001b[36m \u001b[0m\u001b[36m        test_loss        \u001b[0m\u001b[36m \u001b[0m│\u001b[35m \u001b[0m\u001b[35m   0.24634385108947754   \u001b[0m\u001b[35m \u001b[0m│\n",
       "└───────────────────────────┴───────────────────────────┘\n"
      ]
     },
     "metadata": {},
     "output_type": "display_data"
    },
    {
     "data": {
      "text/plain": [
       "[{'test_loss': 0.24634385108947754, 'test_acc': 0.9185791015625}]"
      ]
     },
     "execution_count": 22,
     "metadata": {},
     "output_type": "execute_result"
    }
   ],
   "source": [
    "trainer.test(model=hcdrclassifier, datamodule=HCDR_DataModule(), ckpt_path='best')"
   ]
  },
  {
   "cell_type": "code",
   "execution_count": 24,
   "metadata": {},
   "outputs": [],
   "source": [
    "\n",
    "from torchmetrics import AUROC\n",
    "class MultiLayerPerceptron3(pl.LightningModule):\n",
    "    def __init__(self, input_size=(1429), hidden_units=(32, 16)):\n",
    "        super().__init__()\n",
    "        \n",
    "        # new PL attributes:\n",
    "        # self.train_acc = Accuracy(\"binary\", num_classes=2)  #change to binary class and 2 for HCDR\n",
    "        self.train_auc = AUROC(\"binary\", num_classes=2)\n",
    "        # self.test_acc = Accuracy(\"binary\",num_classes=2)\n",
    "        # self.test_auc = AUROC(\"binary\", num_classes=2)\n",
    "        self.valid_auc = AUROC(\"binary\", num_classes=2)\n",
    "        \n",
    "        # Model similar to previous section:\n",
    "        input_size = input_size\n",
    "        all_layers = [nn.Linear(input_size, hidden_units[0]),\n",
    "                      nn.ReLU(),\n",
    "                      nn.Linear(hidden_units[0], hidden_units[1]),\n",
    "                      nn.ReLU(),\n",
    "                      nn.Linear(hidden_units[1], 2)\n",
    "                      ]\n",
    "        # for hidden_unit in hidden_units: \n",
    " \n",
    "        # all_layers.append(nn.Linear(hidden_units[-1], 10)) \n",
    "        self.model = nn.Sequential(*all_layers)\n",
    "\n",
    "    def forward(self, x):\n",
    "        x = self.model(x)\n",
    "        return x\n",
    "\n",
    "    def training_step(self, batch, batch_idx):\n",
    "        # add in a loss layer\n",
    "        x, y = batch\n",
    "        logits = self(x)\n",
    "        loss = nn.functional.cross_entropy(logits, y.squeeze().long())\n",
    "        preds = torch.argmax(logits, dim=1)\n",
    "        # self.train_acc.update(preds, y.squeeze().long())\n",
    "        self.train_auc.update(preds, y.squeeze().long())\n",
    "        self.log(\"train_loss\", loss, prog_bar=True)\n",
    "        return loss\n",
    "\n",
    "    def on_train_epoch_end(self):\n",
    "        # self.log(\"train_acc\", self.train_acc.compute())\n",
    "        self.log(\"train_auc\", self.train_auc.compute())\n",
    "        # self.train_acc.reset()\n",
    "        self.train_auc.reset()\n",
    "        \n",
    "    def validation_step(self, batch, batch_idx):\n",
    "        x, y = batch\n",
    "        logits = self(x)\n",
    "        loss = nn.functional.cross_entropy(logits, y.squeeze().long())\n",
    "        preds = torch.argmax(logits, dim=1)\n",
    "        self.valid_auc.update(preds, y.squeeze().long())\n",
    "        self.log(\"valid_loss\", loss, prog_bar=True)\n",
    "        return loss\n",
    "    \n",
    "    def on_validation_epoch_end(self):\n",
    "        self.log(\"valid_auc\", self.valid_auc.compute(), prog_bar=True)\n",
    "        self.valid_auc.reset()\n",
    "\n",
    "    def test_step(self, batch, batch_idx):\n",
    "        x, y = batch\n",
    "        logits = self(x)\n",
    "        loss = nn.functional.cross_entropy(logits, y.squeeze().long())\n",
    "        preds = torch.argmax(logits, dim=1)\n",
    "        # self.test_acc.update(preds, y.squeeze().long())\n",
    "        # self.test_auc.update(preds, y.squeeze().long())\n",
    "        self.log(\"test_loss\", loss, prog_bar=True)\n",
    "        # self.log(\"test_acc\", self.test_acc.compute(), prog_bar=True)\n",
    "        # self.log(\"test_auc\", self.test_auc.compute())\n",
    "        return loss\n",
    "\n",
    "    def configure_optimizers(self):\n",
    "        optimizer = torch.optim.Adam(self.parameters(), lr=0.001)\n",
    "        return optimizer"
   ]
  },
  {
   "cell_type": "code",
   "execution_count": 25,
   "metadata": {},
   "outputs": [
    {
     "name": "stderr",
     "output_type": "stream",
     "text": [
      "GPU available: False, used: False\n",
      "TPU available: False, using: 0 TPU cores\n",
      "HPU available: False, using: 0 HPUs\n"
     ]
    },
    {
     "name": "stderr",
     "output_type": "stream",
     "text": [
      "\n",
      "  | Name      | Type        | Params | Mode \n",
      "--------------------------------------------------\n",
      "0 | train_auc | BinaryAUROC | 0      | train\n",
      "1 | valid_auc | BinaryAUROC | 0      | train\n",
      "2 | model     | Sequential  | 46.3 K | train\n",
      "--------------------------------------------------\n",
      "46.3 K    Trainable params\n",
      "0         Non-trainable params\n",
      "46.3 K    Total params\n",
      "0.185     Total estimated model params size (MB)\n",
      "8         Modules in train mode\n",
      "0         Modules in eval mode\n"
     ]
    },
    {
     "name": "stdout",
     "output_type": "stream",
     "text": [
      "Epoch 0: 100%|██████████| 13/13 [21:03<00:00,  0.01it/s, v_num=16, train_loss=0.370, valid_loss=0.359, valid_AUC=0.500]\n",
      "Epoch 0: 100%|██████████| 13/13 [08:23<00:00,  0.03it/s, v_num=18, train_loss=0.479, valid_loss=0.461, valid_auc=0.500]\n",
      "Epoch 0: 100%|██████████| 13/13 [21:03<00:00,  0.01it/s, v_num=16, train_loss=0.370, valid_loss=0.359, valid_AUC=0.500]\n",
      "Epoch 0: 100%|██████████| 13/13 [21:03<00:00,  0.01it/s, v_num=16, train_loss=0.370, valid_loss=0.359, valid_AUC=0.500]\n",
      "Epoch 0: 100%|██████████| 13/13 [08:23<00:00,  0.03it/s, v_num=18, train_loss=0.479, valid_loss=0.461, valid_auc=0.500]\n",
      "Epoch 0: 100%|██████████| 13/13 [08:23<00:00,  0.03it/s, v_num=18, train_loss=0.479, valid_loss=0.461, valid_auc=0.500]\n",
      "                                                                           \r"
     ]
    },
    {
     "name": "stderr",
     "output_type": "stream",
     "text": [
      "/home/pete/Documents/ML_code/mlenv/lib/python3.10/site-packages/pytorch_lightning/loops/fit_loop.py:298: The number of training batches (13) is smaller than the logging interval Trainer(log_every_n_steps=50). Set a lower value for log_every_n_steps if you want to see logs for the training epoch.\n"
     ]
    },
    {
     "name": "stdout",
     "output_type": "stream",
     "text": [
      "Epoch 0: 100%|██████████| 13/13 [21:04<00:00,  0.01it/s, v_num=16, train_loss=0.370, valid_loss=0.359, valid_AUC=0.500]\n",
      "Epoch 0: 100%|██████████| 13/13 [21:04<00:00,  0.01it/s, v_num=16, train_loss=0.370, valid_loss=0.359, valid_AUC=0.500]\n",
      "Epoch 0: 100%|██████████| 13/13 [08:24<00:00,  0.03it/s, v_num=18, train_loss=0.479, valid_loss=0.461, valid_auc=0.500]\n",
      "Epoch 0: 100%|██████████| 13/13 [08:24<00:00,  0.03it/s, v_num=18, train_loss=0.479, valid_loss=0.461, valid_auc=0.500]\n",
      "Epoch 0: 100%|██████████| 13/13 [21:04<00:00,  0.01it/s, v_num=16, train_loss=0.370, valid_loss=0.359, valid_AUC=0.500]\n",
      "Epoch 0: 100%|██████████| 13/13 [08:24<00:00,  0.03it/s, v_num=18, train_loss=0.479, valid_loss=0.461, valid_auc=0.500]\n",
      "Epoch 0: 100%|██████████| 13/13 [21:04<00:00,  0.01it/s, v_num=16, train_loss=0.370, valid_loss=0.359, valid_AUC=0.500]\n",
      "Epoch 0: 100%|██████████| 13/13 [08:24<00:00,  0.03it/s, v_num=18, train_loss=0.479, valid_loss=0.461, valid_auc=0.500]\n",
      "Epoch 0: 100%|██████████| 13/13 [21:05<00:00,  0.01it/s, v_num=16, train_loss=0.370, valid_loss=0.359, valid_AUC=0.500]\n",
      "Epoch 0: 100%|██████████| 13/13 [21:05<00:00,  0.01it/s, v_num=16, train_loss=0.370, valid_loss=0.359, valid_AUC=0.500]\n",
      "Epoch 0: 100%|██████████| 13/13 [21:05<00:00,  0.01it/s, v_num=16, train_loss=0.370, valid_loss=0.359, valid_AUC=0.500]\n",
      "Epoch 0: 100%|██████████| 13/13 [08:26<00:00,  0.03it/s, v_num=18, train_loss=0.479, valid_loss=0.461, valid_auc=0.500]\n",
      "Epoch 0: 100%|██████████| 13/13 [08:26<00:00,  0.03it/s, v_num=18, train_loss=0.479, valid_loss=0.461, valid_auc=0.500]\n",
      "Epoch 0: 100%|██████████| 13/13 [08:26<00:00,  0.03it/s, v_num=18, train_loss=0.479, valid_loss=0.461, valid_auc=0.500]\n",
      "Epoch 0: 100%|██████████| 13/13 [21:07<00:00,  0.01it/s, v_num=16, train_loss=0.370, valid_loss=0.359, valid_AUC=0.500]\n",
      "Epoch 0: 100%|██████████| 13/13 [21:07<00:00,  0.01it/s, v_num=16, train_loss=0.370, valid_loss=0.359, valid_AUC=0.500]\n",
      "Epoch 0: 100%|██████████| 13/13 [08:27<00:00,  0.03it/s, v_num=18, train_loss=0.479, valid_loss=0.461, valid_auc=0.500]\n",
      "Epoch 0: 100%|██████████| 13/13 [08:27<00:00,  0.03it/s, v_num=18, train_loss=0.479, valid_loss=0.461, valid_auc=0.500]\n",
      "Epoch 0: 100%|██████████| 13/13 [21:07<00:00,  0.01it/s, v_num=16, train_loss=0.370, valid_loss=0.359, valid_AUC=0.500]\n",
      "Epoch 0: 100%|██████████| 13/13 [21:07<00:00,  0.01it/s, v_num=16, train_loss=0.370, valid_loss=0.359, valid_AUC=0.500]\n",
      "Epoch 0: 100%|██████████| 13/13 [08:27<00:00,  0.03it/s, v_num=18, train_loss=0.479, valid_loss=0.461, valid_auc=0.500]\n",
      "Epoch 0: 100%|██████████| 13/13 [08:27<00:00,  0.03it/s, v_num=18, train_loss=0.479, valid_loss=0.461, valid_auc=0.500]\n",
      "Epoch 0: 100%|██████████| 13/13 [21:08<00:00,  0.01it/s, v_num=16, train_loss=0.370, valid_loss=0.359, valid_AUC=0.500]\n",
      "Epoch 0: 100%|██████████| 13/13 [21:08<00:00,  0.01it/s, v_num=16, train_loss=0.370, valid_loss=0.359, valid_AUC=0.500]\n",
      "Epoch 0: 100%|██████████| 13/13 [21:08<00:00,  0.01it/s, v_num=16, train_loss=0.370, valid_loss=0.359, valid_AUC=0.500]\n",
      "Epoch 0: 100%|██████████| 13/13 [08:29<00:00,  0.03it/s, v_num=18, train_loss=0.479, valid_loss=0.461, valid_auc=0.500]\n",
      "Epoch 0: 100%|██████████| 13/13 [08:29<00:00,  0.03it/s, v_num=18, train_loss=0.479, valid_loss=0.461, valid_auc=0.500]\n",
      "Epoch 0: 100%|██████████| 13/13 [08:29<00:00,  0.03it/s, v_num=18, train_loss=0.479, valid_loss=0.461, valid_auc=0.500]\n",
      "Epoch 0: 100%|██████████| 13/13 [21:10<00:00,  0.01it/s, v_num=16, train_loss=0.370, valid_loss=0.359, valid_AUC=0.500]\n",
      "Epoch 0: 100%|██████████| 13/13 [21:10<00:00,  0.01it/s, v_num=16, train_loss=0.370, valid_loss=0.359, valid_AUC=0.500]\n",
      "Epoch 0: 100%|██████████| 13/13 [21:10<00:00,  0.01it/s, v_num=16, train_loss=0.370, valid_loss=0.359, valid_AUC=0.500]\n",
      "Epoch 0: 100%|██████████| 13/13 [21:10<00:00,  0.01it/s, v_num=16, train_loss=0.370, valid_loss=0.359, valid_AUC=0.500]\n",
      "Epoch 0: 100%|██████████| 13/13 [08:30<00:00,  0.03it/s, v_num=18, train_loss=0.479, valid_loss=0.461, valid_auc=0.500]\n",
      "Epoch 0: 100%|██████████| 13/13 [08:30<00:00,  0.03it/s, v_num=18, train_loss=0.479, valid_loss=0.461, valid_auc=0.500]\n",
      "Epoch 0: 100%|██████████| 13/13 [08:30<00:00,  0.03it/s, v_num=18, train_loss=0.479, valid_loss=0.461, valid_auc=0.500]\n",
      "Epoch 0: 100%|██████████| 13/13 [08:30<00:00,  0.03it/s, v_num=18, train_loss=0.479, valid_loss=0.461, valid_auc=0.500]\n",
      "Epoch 0: 100%|██████████| 13/13 [21:11<00:00,  0.01it/s, v_num=16, train_loss=0.370, valid_loss=0.359, valid_AUC=0.500]\n",
      "Epoch 0: 100%|██████████| 13/13 [21:11<00:00,  0.01it/s, v_num=16, train_loss=0.370, valid_loss=0.359, valid_AUC=0.500]\n",
      "Epoch 0: 100%|██████████| 13/13 [08:32<00:00,  0.03it/s, v_num=18, train_loss=0.479, valid_loss=0.461, valid_auc=0.500]\n",
      "Epoch 0: 100%|██████████| 13/13 [08:32<00:00,  0.03it/s, v_num=18, train_loss=0.479, valid_loss=0.461, valid_auc=0.500]\n",
      "Epoch 0: 100%|██████████| 13/13 [21:11<00:00,  0.01it/s, v_num=16, train_loss=0.370, valid_loss=0.359, valid_AUC=0.500]\n",
      "Epoch 0: 100%|██████████| 13/13 [08:32<00:00,  0.03it/s, v_num=18, train_loss=0.479, valid_loss=0.461, valid_auc=0.500]\n",
      "Epoch 0: 100%|██████████| 13/13 [21:12<00:00,  0.01it/s, v_num=16, train_loss=0.370, valid_loss=0.359, valid_AUC=0.500]\n",
      "Epoch 0: 100%|██████████| 13/13 [21:12<00:00,  0.01it/s, v_num=16, train_loss=0.370, valid_loss=0.359, valid_AUC=0.500]\n",
      "Epoch 0: 100%|██████████| 13/13 [08:33<00:00,  0.03it/s, v_num=18, train_loss=0.479, valid_loss=0.461, valid_auc=0.500]\n",
      "Epoch 0: 100%|██████████| 13/13 [08:33<00:00,  0.03it/s, v_num=18, train_loss=0.479, valid_loss=0.461, valid_auc=0.500]\n",
      "Epoch 0: 100%|██████████| 13/13 [21:12<00:00,  0.01it/s, v_num=16, train_loss=0.370, valid_loss=0.359, valid_AUC=0.500]\n",
      "Epoch 0: 100%|██████████| 13/13 [21:12<00:00,  0.01it/s, v_num=16, train_loss=0.370, valid_loss=0.359, valid_AUC=0.500]\n",
      "Epoch 0: 100%|██████████| 13/13 [08:33<00:00,  0.03it/s, v_num=18, train_loss=0.479, valid_loss=0.461, valid_auc=0.500]\n",
      "Epoch 0: 100%|██████████| 13/13 [08:33<00:00,  0.03it/s, v_num=18, train_loss=0.479, valid_loss=0.461, valid_auc=0.500]\n",
      "Epoch 0: 100%|██████████| 13/13 [21:14<00:00,  0.01it/s, v_num=16, train_loss=0.370, valid_loss=0.359, valid_AUC=0.500]\n",
      "Epoch 0: 100%|██████████| 13/13 [21:14<00:00,  0.01it/s, v_num=16, train_loss=0.370, valid_loss=0.359, valid_AUC=0.500]\n",
      "Epoch 0: 100%|██████████| 13/13 [08:34<00:00,  0.03it/s, v_num=18, train_loss=0.479, valid_loss=0.461, valid_auc=0.500]\n",
      "Epoch 0: 100%|██████████| 13/13 [08:34<00:00,  0.03it/s, v_num=18, train_loss=0.479, valid_loss=0.461, valid_auc=0.500]\n",
      "Epoch 0: 100%|██████████| 13/13 [21:14<00:00,  0.01it/s, v_num=16, train_loss=0.370, valid_loss=0.359, valid_AUC=0.500]\n",
      "Epoch 0: 100%|██████████| 13/13 [08:34<00:00,  0.03it/s, v_num=18, train_loss=0.479, valid_loss=0.461, valid_auc=0.500]\n",
      "Epoch 0: 100%|██████████| 13/13 [21:15<00:00,  0.01it/s, v_num=16, train_loss=0.370, valid_loss=0.359, valid_AUC=0.500]\n",
      "Epoch 0: 100%|██████████| 13/13 [08:36<00:00,  0.03it/s, v_num=18, train_loss=0.479, valid_loss=0.461, valid_auc=0.500]\n",
      "Epoch 0: 100%|██████████| 13/13 [21:15<00:00,  0.01it/s, v_num=16, train_loss=0.370, valid_loss=0.359, valid_AUC=0.500]\n",
      "Epoch 0: 100%|██████████| 13/13 [21:15<00:00,  0.01it/s, v_num=16, train_loss=0.370, valid_loss=0.359, valid_AUC=0.500]\n",
      "Epoch 0: 100%|██████████| 13/13 [08:36<00:00,  0.03it/s, v_num=18, train_loss=0.479, valid_loss=0.461, valid_auc=0.500]\n",
      "Epoch 0: 100%|██████████| 13/13 [08:36<00:00,  0.03it/s, v_num=18, train_loss=0.479, valid_loss=0.461, valid_auc=0.500]\n",
      "Epoch 0: 100%|██████████| 13/13 [21:15<00:00,  0.01it/s, v_num=16, train_loss=0.370, valid_loss=0.359, valid_AUC=0.500]\n",
      "Epoch 0: 100%|██████████| 13/13 [08:36<00:00,  0.03it/s, v_num=18, train_loss=0.479, valid_loss=0.461, valid_auc=0.500]\n",
      "Epoch 0: 100%|██████████| 13/13 [21:17<00:00,  0.01it/s, v_num=16, train_loss=0.370, valid_loss=0.359, valid_AUC=0.500]\n",
      "Epoch 0: 100%|██████████| 13/13 [08:37<00:00,  0.03it/s, v_num=18, train_loss=0.479, valid_loss=0.461, valid_auc=0.500]\n",
      "Epoch 0: 100%|██████████| 13/13 [21:17<00:00,  0.01it/s, v_num=16, train_loss=0.370, valid_loss=0.359, valid_AUC=0.500]\n",
      "Epoch 0: 100%|██████████| 13/13 [08:37<00:00,  0.03it/s, v_num=18, train_loss=0.479, valid_loss=0.461, valid_auc=0.500]\n",
      "Epoch 0: 100%|██████████| 13/13 [21:17<00:00,  0.01it/s, v_num=16, train_loss=0.370, valid_loss=0.359, valid_AUC=0.500]\n",
      "Epoch 0: 100%|██████████| 13/13 [08:37<00:00,  0.03it/s, v_num=18, train_loss=0.479, valid_loss=0.461, valid_auc=0.500]\n",
      "Epoch 0: 100%|██████████| 13/13 [21:18<00:00,  0.01it/s, v_num=16, train_loss=0.370, valid_loss=0.359, valid_AUC=0.500]\n",
      "Epoch 0: 100%|██████████| 13/13 [21:18<00:00,  0.01it/s, v_num=16, train_loss=0.370, valid_loss=0.359, valid_AUC=0.500]\n",
      "Epoch 0: 100%|██████████| 13/13 [08:38<00:00,  0.03it/s, v_num=18, train_loss=0.479, valid_loss=0.461, valid_auc=0.500]\n",
      "Epoch 0: 100%|██████████| 13/13 [08:38<00:00,  0.03it/s, v_num=18, train_loss=0.479, valid_loss=0.461, valid_auc=0.500]\n",
      "Epoch 0: 100%|██████████| 13/13 [21:18<00:00,  0.01it/s, v_num=16, train_loss=0.370, valid_loss=0.359, valid_AUC=0.500]\n",
      "Epoch 0: 100%|██████████| 13/13 [08:39<00:00,  0.03it/s, v_num=18, train_loss=0.479, valid_loss=0.461, valid_auc=0.500]\n",
      "Epoch 0: 100%|██████████| 13/13 [21:18<00:00,  0.01it/s, v_num=16, train_loss=0.370, valid_loss=0.359, valid_AUC=0.500]\n",
      "Epoch 0: 100%|██████████| 13/13 [08:39<00:00,  0.03it/s, v_num=18, train_loss=0.479, valid_loss=0.461, valid_auc=0.500]\n",
      "Epoch 0: 100%|██████████| 13/13 [21:20<00:00,  0.01it/s, v_num=16, train_loss=0.370, valid_loss=0.359, valid_AUC=0.500]\n",
      "Epoch 0: 100%|██████████| 13/13 [08:40<00:00,  0.02it/s, v_num=18, train_loss=0.479, valid_loss=0.461, valid_auc=0.500]\n",
      "Epoch 0: 100%|██████████| 13/13 [21:20<00:00,  0.01it/s, v_num=16, train_loss=0.370, valid_loss=0.359, valid_AUC=0.500]\n",
      "Epoch 0: 100%|██████████| 13/13 [08:40<00:00,  0.02it/s, v_num=18, train_loss=0.479, valid_loss=0.461, valid_auc=0.500]\n",
      "Epoch 0: 100%|██████████| 13/13 [21:20<00:00,  0.01it/s, v_num=16, train_loss=0.370, valid_loss=0.359, valid_AUC=0.500]\n",
      "Epoch 0: 100%|██████████| 13/13 [08:40<00:00,  0.02it/s, v_num=18, train_loss=0.479, valid_loss=0.461, valid_auc=0.500]\n",
      "Epoch 0: 100%|██████████| 13/13 [21:21<00:00,  0.01it/s, v_num=16, train_loss=0.370, valid_loss=0.359, valid_AUC=0.500]\n",
      "Epoch 0: 100%|██████████| 13/13 [21:21<00:00,  0.01it/s, v_num=16, train_loss=0.370, valid_loss=0.359, valid_AUC=0.500]\n",
      "Epoch 0: 100%|██████████| 13/13 [08:41<00:00,  0.02it/s, v_num=18, train_loss=0.479, valid_loss=0.461, valid_auc=0.500]\n",
      "Epoch 0: 100%|██████████| 13/13 [08:41<00:00,  0.02it/s, v_num=18, train_loss=0.479, valid_loss=0.461, valid_auc=0.500]\n",
      "Epoch 0: 100%|██████████| 13/13 [21:21<00:00,  0.01it/s, v_num=16, train_loss=0.370, valid_loss=0.359, valid_AUC=0.500]\n",
      "Epoch 0: 100%|██████████| 13/13 [21:21<00:00,  0.01it/s, v_num=16, train_loss=0.370, valid_loss=0.359, valid_AUC=0.500]\n",
      "Epoch 0: 100%|██████████| 13/13 [08:41<00:00,  0.02it/s, v_num=18, train_loss=0.479, valid_loss=0.461, valid_auc=0.500]\n",
      "Epoch 0: 100%|██████████| 13/13 [08:41<00:00,  0.02it/s, v_num=18, train_loss=0.479, valid_loss=0.461, valid_auc=0.500]\n",
      "Epoch 0: 100%|██████████| 13/13 [21:23<00:00,  0.01it/s, v_num=16, train_loss=0.370, valid_loss=0.359, valid_AUC=0.500]\n",
      "Epoch 0: 100%|██████████| 13/13 [21:23<00:00,  0.01it/s, v_num=16, train_loss=0.370, valid_loss=0.359, valid_AUC=0.500]\n",
      "Epoch 0: 100%|██████████| 13/13 [08:43<00:00,  0.02it/s, v_num=18, train_loss=0.479, valid_loss=0.461, valid_auc=0.500]\n",
      "Epoch 0: 100%|██████████| 13/13 [08:43<00:00,  0.02it/s, v_num=18, train_loss=0.479, valid_loss=0.461, valid_auc=0.500]\n",
      "Epoch 0: 100%|██████████| 13/13 [21:23<00:00,  0.01it/s, v_num=16, train_loss=0.370, valid_loss=0.359, valid_AUC=0.500]\n",
      "Epoch 0: 100%|██████████| 13/13 [08:43<00:00,  0.02it/s, v_num=18, train_loss=0.479, valid_loss=0.461, valid_auc=0.500]\n",
      "Epoch 0: 100%|██████████| 13/13 [21:24<00:00,  0.01it/s, v_num=16, train_loss=0.370, valid_loss=0.359, valid_AUC=0.500]\n",
      "Epoch 0: 100%|██████████| 13/13 [21:24<00:00,  0.01it/s, v_num=16, train_loss=0.370, valid_loss=0.359, valid_AUC=0.500]\n",
      "Epoch 0: 100%|██████████| 13/13 [21:24<00:00,  0.01it/s, v_num=16, train_loss=0.370, valid_loss=0.359, valid_AUC=0.500]\n",
      "Epoch 0: 100%|██████████| 13/13 [08:44<00:00,  0.02it/s, v_num=18, train_loss=0.479, valid_loss=0.461, valid_auc=0.500]\n",
      "Epoch 0: 100%|██████████| 13/13 [08:44<00:00,  0.02it/s, v_num=18, train_loss=0.479, valid_loss=0.461, valid_auc=0.500]\n",
      "Epoch 0: 100%|██████████| 13/13 [08:44<00:00,  0.02it/s, v_num=18, train_loss=0.479, valid_loss=0.461, valid_auc=0.500]\n",
      "Epoch 0: 100%|██████████| 13/13 [21:24<00:00,  0.01it/s, v_num=16, train_loss=0.370, valid_loss=0.359, valid_AUC=0.500]\n",
      "Epoch 0: 100%|██████████| 13/13 [08:44<00:00,  0.02it/s, v_num=18, train_loss=0.479, valid_loss=0.461, valid_auc=0.500]\n",
      "Epoch 0: 100%|██████████| 13/13 [21:26<00:00,  0.01it/s, v_num=16, train_loss=0.370, valid_loss=0.359, valid_AUC=0.500]\n",
      "Epoch 0: 100%|██████████| 13/13 [21:26<00:00,  0.01it/s, v_num=16, train_loss=0.370, valid_loss=0.359, valid_AUC=0.500]\n",
      "Epoch 0: 100%|██████████| 13/13 [08:46<00:00,  0.02it/s, v_num=18, train_loss=0.479, valid_loss=0.461, valid_auc=0.500]\n",
      "Epoch 0: 100%|██████████| 13/13 [08:46<00:00,  0.02it/s, v_num=18, train_loss=0.479, valid_loss=0.461, valid_auc=0.500]\n",
      "Epoch 0: 100%|██████████| 13/13 [21:26<00:00,  0.01it/s, v_num=16, train_loss=0.370, valid_loss=0.359, valid_AUC=0.500]\n",
      "Epoch 0: 100%|██████████| 13/13 [08:46<00:00,  0.02it/s, v_num=18, train_loss=0.479, valid_loss=0.461, valid_auc=0.500]\n",
      "Epoch 0: 100%|██████████| 13/13 [21:27<00:00,  0.01it/s, v_num=16, train_loss=0.370, valid_loss=0.359, valid_AUC=0.500]\n",
      "Epoch 0: 100%|██████████| 13/13 [08:47<00:00,  0.02it/s, v_num=18, train_loss=0.479, valid_loss=0.461, valid_auc=0.500]\n",
      "Epoch 0: 100%|██████████| 13/13 [21:27<00:00,  0.01it/s, v_num=16, train_loss=0.370, valid_loss=0.359, valid_AUC=0.500]\n",
      "Epoch 0: 100%|██████████| 13/13 [08:47<00:00,  0.02it/s, v_num=18, train_loss=0.479, valid_loss=0.461, valid_auc=0.500]\n",
      "Epoch 0: 100%|██████████| 13/13 [21:27<00:00,  0.01it/s, v_num=16, train_loss=0.370, valid_loss=0.359, valid_AUC=0.500]\n",
      "Epoch 0: 100%|██████████| 13/13 [21:27<00:00,  0.01it/s, v_num=16, train_loss=0.370, valid_loss=0.359, valid_AUC=0.500]\n",
      "Epoch 0: 100%|██████████| 13/13 [08:47<00:00,  0.02it/s, v_num=18, train_loss=0.479, valid_loss=0.461, valid_auc=0.500]\n",
      "Epoch 0: 100%|██████████| 13/13 [08:47<00:00,  0.02it/s, v_num=18, train_loss=0.479, valid_loss=0.461, valid_auc=0.500]\n",
      "Epoch 0: 100%|██████████| 13/13 [21:29<00:00,  0.01it/s, v_num=16, train_loss=0.370, valid_loss=0.359, valid_AUC=0.500]\n",
      "Epoch 0: 100%|██████████| 13/13 [08:49<00:00,  0.02it/s, v_num=18, train_loss=0.479, valid_loss=0.461, valid_auc=0.500]\n",
      "Epoch 0: 100%|██████████| 13/13 [21:29<00:00,  0.01it/s, v_num=16, train_loss=0.370, valid_loss=0.359, valid_AUC=0.500]\n",
      "Epoch 0: 100%|██████████| 13/13 [21:29<00:00,  0.01it/s, v_num=16, train_loss=0.370, valid_loss=0.359, valid_AUC=0.500]\n",
      "Epoch 0: 100%|██████████| 13/13 [08:49<00:00,  0.02it/s, v_num=18, train_loss=0.479, valid_loss=0.461, valid_auc=0.500]\n",
      "Epoch 0: 100%|██████████| 13/13 [08:49<00:00,  0.02it/s, v_num=18, train_loss=0.479, valid_loss=0.461, valid_auc=0.500]\n",
      "Epoch 0: 100%|██████████| 13/13 [21:30<00:00,  0.01it/s, v_num=16, train_loss=0.370, valid_loss=0.359, valid_AUC=0.500]\n",
      "Epoch 0: 100%|██████████| 13/13 [08:50<00:00,  0.02it/s, v_num=18, train_loss=0.479, valid_loss=0.461, valid_auc=0.500]\n",
      "Epoch 0: 100%|██████████| 13/13 [21:30<00:00,  0.01it/s, v_num=16, train_loss=0.370, valid_loss=0.359, valid_AUC=0.500]\n",
      "Epoch 0: 100%|██████████| 13/13 [21:30<00:00,  0.01it/s, v_num=16, train_loss=0.370, valid_loss=0.359, valid_AUC=0.500]\n",
      "Epoch 0: 100%|██████████| 13/13 [21:30<00:00,  0.01it/s, v_num=16, train_loss=0.370, valid_loss=0.359, valid_AUC=0.500]\n",
      "Epoch 0: 100%|██████████| 13/13 [08:50<00:00,  0.02it/s, v_num=18, train_loss=0.479, valid_loss=0.461, valid_auc=0.500]\n",
      "Epoch 0: 100%|██████████| 13/13 [08:50<00:00,  0.02it/s, v_num=18, train_loss=0.479, valid_loss=0.461, valid_auc=0.500]\n",
      "Epoch 0: 100%|██████████| 13/13 [08:50<00:00,  0.02it/s, v_num=18, train_loss=0.479, valid_loss=0.461, valid_auc=0.500]\n",
      "Epoch 0: 100%|██████████| 13/13 [21:32<00:00,  0.01it/s, v_num=16, train_loss=0.370, valid_loss=0.359, valid_AUC=0.500]\n",
      "Epoch 0: 100%|██████████| 13/13 [21:32<00:00,  0.01it/s, v_num=16, train_loss=0.370, valid_loss=0.359, valid_AUC=0.500]\n",
      "Epoch 0: 100%|██████████| 13/13 [21:32<00:00,  0.01it/s, v_num=16, train_loss=0.370, valid_loss=0.359, valid_AUC=0.500]\n",
      "Epoch 0: 100%|██████████| 13/13 [08:52<00:00,  0.02it/s, v_num=18, train_loss=0.479, valid_loss=0.461, valid_auc=0.500]\n",
      "Epoch 0: 100%|██████████| 13/13 [08:52<00:00,  0.02it/s, v_num=18, train_loss=0.479, valid_loss=0.461, valid_auc=0.500]\n",
      "Epoch 0: 100%|██████████| 13/13 [08:52<00:00,  0.02it/s, v_num=18, train_loss=0.479, valid_loss=0.461, valid_auc=0.500]\n",
      "Epoch 0: 100%|██████████| 13/13 [21:33<00:00,  0.01it/s, v_num=16, train_loss=0.370, valid_loss=0.359, valid_AUC=0.500]\n",
      "Epoch 0: 100%|██████████| 13/13 [21:33<00:00,  0.01it/s, v_num=16, train_loss=0.370, valid_loss=0.359, valid_AUC=0.500]\n",
      "Epoch 0: 100%|██████████| 13/13 [21:33<00:00,  0.01it/s, v_num=16, train_loss=0.370, valid_loss=0.359, valid_AUC=0.500]\n",
      "Epoch 0: 100%|██████████| 13/13 [08:53<00:00,  0.02it/s, v_num=18, train_loss=0.479, valid_loss=0.461, valid_auc=0.500]\n",
      "Epoch 0: 100%|██████████| 13/13 [08:53<00:00,  0.02it/s, v_num=18, train_loss=0.479, valid_loss=0.461, valid_auc=0.500]\n",
      "Epoch 0: 100%|██████████| 13/13 [08:53<00:00,  0.02it/s, v_num=18, train_loss=0.479, valid_loss=0.461, valid_auc=0.500]\n",
      "Epoch 0: 100%|██████████| 13/13 [21:33<00:00,  0.01it/s, v_num=16, train_loss=0.370, valid_loss=0.359, valid_AUC=0.500]\n",
      "Epoch 0: 100%|██████████| 13/13 [08:53<00:00,  0.02it/s, v_num=18, train_loss=0.479, valid_loss=0.461, valid_auc=0.500]\n",
      "Epoch 0: 100%|██████████| 13/13 [21:35<00:00,  0.01it/s, v_num=16, train_loss=0.370, valid_loss=0.359, valid_AUC=0.500]]\n",
      "Epoch 0: 100%|██████████| 13/13 [21:35<00:00,  0.01it/s, v_num=16, train_loss=0.370, valid_loss=0.359, valid_AUC=0.500]\n",
      "Epoch 0: 100%|██████████| 13/13 [21:35<00:00,  0.01it/s, v_num=16, train_loss=0.370, valid_loss=0.359, valid_AUC=0.500]\n",
      "Epoch 0: 100%|██████████| 13/13 [08:55<00:00,  0.02it/s, v_num=18, train_loss=0.479, valid_loss=0.461, valid_auc=0.500]\n",
      "Epoch 0: 100%|██████████| 13/13 [08:55<00:00,  0.02it/s, v_num=18, train_loss=0.479, valid_loss=0.461, valid_auc=0.500]\n",
      "Epoch 0: 100%|██████████| 13/13 [08:55<00:00,  0.02it/s, v_num=18, train_loss=0.479, valid_loss=0.461, valid_auc=0.500]\n",
      "Epoch 0: 100%|██████████| 13/13 [21:36<00:00,  0.01it/s, v_num=16, train_loss=0.370, valid_loss=0.359, valid_AUC=0.500] \n",
      "Epoch 0: 100%|██████████| 13/13 [21:36<00:00,  0.01it/s, v_num=16, train_loss=0.370, valid_loss=0.359, valid_AUC=0.500]\n",
      "Epoch 0: 100%|██████████| 13/13 [08:56<00:00,  0.02it/s, v_num=18, train_loss=0.479, valid_loss=0.461, valid_auc=0.500]\n",
      "Epoch 0: 100%|██████████| 13/13 [08:56<00:00,  0.02it/s, v_num=18, train_loss=0.479, valid_loss=0.461, valid_auc=0.500]\n",
      "Epoch 0: 100%|██████████| 13/13 [21:36<00:00,  0.01it/s, v_num=16, train_loss=0.370, valid_loss=0.359, valid_AUC=0.500]\n",
      "Epoch 0: 100%|██████████| 13/13 [21:36<00:00,  0.01it/s, v_num=16, train_loss=0.370, valid_loss=0.359, valid_AUC=0.500]\n",
      "Epoch 0: 100%|██████████| 13/13 [08:56<00:00,  0.02it/s, v_num=18, train_loss=0.479, valid_loss=0.461, valid_auc=0.500]\n",
      "Epoch 0: 100%|██████████| 13/13 [08:56<00:00,  0.02it/s, v_num=18, train_loss=0.479, valid_loss=0.461, valid_auc=0.500]\n",
      "Epoch 0: 100%|██████████| 13/13 [21:37<00:00,  0.01it/s, v_num=16, train_loss=0.370, valid_loss=0.359, valid_AUC=0.500]]\n",
      "Epoch 0: 100%|██████████| 13/13 [21:37<00:00,  0.01it/s, v_num=16, train_loss=0.370, valid_loss=0.359, valid_AUC=0.500]\n",
      "Epoch 0: 100%|██████████| 13/13 [08:58<00:00,  0.02it/s, v_num=18, train_loss=0.479, valid_loss=0.461, valid_auc=0.500]\n",
      "Epoch 0: 100%|██████████| 13/13 [08:58<00:00,  0.02it/s, v_num=18, train_loss=0.479, valid_loss=0.461, valid_auc=0.500]\n",
      "Epoch 0: 100%|██████████| 13/13 [21:37<00:00,  0.01it/s, v_num=16, train_loss=0.370, valid_loss=0.359, valid_AUC=0.500]\n",
      "Epoch 0: 100%|██████████| 13/13 [08:58<00:00,  0.02it/s, v_num=18, train_loss=0.479, valid_loss=0.461, valid_auc=0.500]\n",
      "Epoch 0: 100%|██████████| 13/13 [21:39<00:00,  0.01it/s, v_num=16, train_loss=0.370, valid_loss=0.359, valid_AUC=0.500] \n",
      "Epoch 0: 100%|██████████| 13/13 [21:39<00:00,  0.01it/s, v_num=16, train_loss=0.370, valid_loss=0.359, valid_AUC=0.500]\n",
      "Epoch 0: 100%|██████████| 13/13 [21:39<00:00,  0.01it/s, v_num=16, train_loss=0.370, valid_loss=0.359, valid_AUC=0.500]\n",
      "Epoch 0: 100%|██████████| 13/13 [08:59<00:00,  0.02it/s, v_num=18, train_loss=0.479, valid_loss=0.461, valid_auc=0.500]\n",
      "Epoch 0: 100%|██████████| 13/13 [08:59<00:00,  0.02it/s, v_num=18, train_loss=0.479, valid_loss=0.461, valid_auc=0.500]\n",
      "Epoch 0: 100%|██████████| 13/13 [08:59<00:00,  0.02it/s, v_num=18, train_loss=0.479, valid_loss=0.461, valid_auc=0.500]\n",
      "Epoch 0: 100%|██████████| 13/13 [21:39<00:00,  0.01it/s, v_num=16, train_loss=0.370, valid_loss=0.359, valid_AUC=0.500]\n",
      "Epoch 0: 100%|██████████| 13/13 [08:59<00:00,  0.02it/s, v_num=18, train_loss=0.479, valid_loss=0.461, valid_auc=0.500]\n",
      "Epoch 0: 100%|██████████| 13/13 [21:40<00:00,  0.01it/s, v_num=16, train_loss=0.370, valid_loss=0.359, valid_AUC=0.500]]\n",
      "Epoch 0: 100%|██████████| 13/13 [21:40<00:00,  0.01it/s, v_num=16, train_loss=0.370, valid_loss=0.359, valid_AUC=0.500]\n",
      "Epoch 0: 100%|██████████| 13/13 [09:01<00:00,  0.02it/s, v_num=18, train_loss=0.479, valid_loss=0.461, valid_auc=0.500]\n",
      "Epoch 0: 100%|██████████| 13/13 [09:01<00:00,  0.02it/s, v_num=18, train_loss=0.479, valid_loss=0.461, valid_auc=0.500]\n",
      "Epoch 0: 100%|██████████| 13/13 [21:40<00:00,  0.01it/s, v_num=16, train_loss=0.370, valid_loss=0.359, valid_AUC=0.500]\n",
      "Epoch 0: 100%|██████████| 13/13 [09:01<00:00,  0.02it/s, v_num=18, train_loss=0.479, valid_loss=0.461, valid_auc=0.500]\n",
      "Epoch 0: 100%|██████████| 13/13 [21:41<00:00,  0.01it/s, v_num=16, train_loss=0.370, valid_loss=0.359, valid_AUC=0.500] \n",
      "Epoch 0: 100%|██████████| 13/13 [21:41<00:00,  0.01it/s, v_num=16, train_loss=0.370, valid_loss=0.359, valid_AUC=0.500]\n",
      "Epoch 0: 100%|██████████| 13/13 [09:02<00:00,  0.02it/s, v_num=18, train_loss=0.479, valid_loss=0.461, valid_auc=0.500]\n",
      "Epoch 0: 100%|██████████| 13/13 [09:02<00:00,  0.02it/s, v_num=18, train_loss=0.479, valid_loss=0.461, valid_auc=0.500]\n",
      "Epoch 0: 100%|██████████| 13/13 [21:41<00:00,  0.01it/s, v_num=16, train_loss=0.370, valid_loss=0.359, valid_AUC=0.500]\n",
      "Epoch 0: 100%|██████████| 13/13 [09:02<00:00,  0.02it/s, v_num=18, train_loss=0.479, valid_loss=0.461, valid_auc=0.500]\n",
      "Epoch 0: 100%|██████████| 13/13 [21:42<00:00,  0.01it/s, v_num=16, train_loss=0.370, valid_loss=0.359, valid_AUC=0.500]\n",
      "Epoch 0: 100%|██████████| 13/13 [09:02<00:00,  0.02it/s, v_num=18, train_loss=0.479, valid_loss=0.461, valid_auc=0.500]\n",
      "Epoch 0: 100%|██████████| 13/13 [21:43<00:00,  0.01it/s, v_num=16, train_loss=0.370, valid_loss=0.359, valid_AUC=0.500]]\n",
      "Epoch 0: 100%|██████████| 13/13 [21:43<00:00,  0.01it/s, v_num=16, train_loss=0.370, valid_loss=0.359, valid_AUC=0.500]\n",
      "Epoch 0: 100%|██████████| 13/13 [09:04<00:00,  0.02it/s, v_num=18, train_loss=0.479, valid_loss=0.461, valid_auc=0.500]\n",
      "Epoch 0: 100%|██████████| 13/13 [09:04<00:00,  0.02it/s, v_num=18, train_loss=0.479, valid_loss=0.461, valid_auc=0.500]\n",
      "Epoch 0: 100%|██████████| 13/13 [21:43<00:00,  0.01it/s, v_num=16, train_loss=0.370, valid_loss=0.359, valid_AUC=0.500]\n",
      "Epoch 0: 100%|██████████| 13/13 [09:04<00:00,  0.02it/s, v_num=18, train_loss=0.479, valid_loss=0.461, valid_auc=0.500]\n",
      "Epoch 0: 100%|██████████| 13/13 [21:44<00:00,  0.01it/s, v_num=16, train_loss=0.370, valid_loss=0.359, valid_AUC=0.500] \n",
      "Epoch 0: 100%|██████████| 13/13 [21:44<00:00,  0.01it/s, v_num=16, train_loss=0.370, valid_loss=0.359, valid_AUC=0.500]\n",
      "Epoch 0: 100%|██████████| 13/13 [09:05<00:00,  0.02it/s, v_num=18, train_loss=0.479, valid_loss=0.461, valid_auc=0.500]\n",
      "Epoch 0: 100%|██████████| 13/13 [09:05<00:00,  0.02it/s, v_num=18, train_loss=0.479, valid_loss=0.461, valid_auc=0.500]\n",
      "Epoch 0: 100%|██████████| 13/13 [21:44<00:00,  0.01it/s, v_num=16, train_loss=0.370, valid_loss=0.359, valid_AUC=0.500]\n",
      "Epoch 0: 100%|██████████| 13/13 [09:05<00:00,  0.02it/s, v_num=18, train_loss=0.479, valid_loss=0.461, valid_auc=0.500]\n",
      "Epoch 0: 100%|██████████| 13/13 [21:44<00:00,  0.01it/s, v_num=16, train_loss=0.370, valid_loss=0.359, valid_AUC=0.500]\n",
      "Epoch 0: 100%|██████████| 13/13 [09:05<00:00,  0.02it/s, v_num=18, train_loss=0.479, valid_loss=0.461, valid_auc=0.500]\n",
      "Epoch 0: 100%|██████████| 13/13 [21:46<00:00,  0.01it/s, v_num=16, train_loss=0.370, valid_loss=0.359, valid_AUC=0.500]]\n",
      "Epoch 0: 100%|██████████| 13/13 [21:46<00:00,  0.01it/s, v_num=16, train_loss=0.370, valid_loss=0.359, valid_AUC=0.500]\n",
      "Epoch 0: 100%|██████████| 13/13 [09:06<00:00,  0.02it/s, v_num=18, train_loss=0.479, valid_loss=0.461, valid_auc=0.500]\n",
      "Epoch 0: 100%|██████████| 13/13 [09:06<00:00,  0.02it/s, v_num=18, train_loss=0.479, valid_loss=0.461, valid_auc=0.500]\n",
      "Epoch 0: 100%|██████████| 13/13 [21:46<00:00,  0.01it/s, v_num=16, train_loss=0.370, valid_loss=0.359, valid_AUC=0.500]\n",
      "Epoch 0: 100%|██████████| 13/13 [09:06<00:00,  0.02it/s, v_num=18, train_loss=0.479, valid_loss=0.461, valid_auc=0.500]\n",
      "Epoch 0: 100%|██████████| 13/13 [21:47<00:00,  0.01it/s, v_num=16, train_loss=0.370, valid_loss=0.359, valid_AUC=0.500] \n",
      "Epoch 0: 100%|██████████| 13/13 [21:47<00:00,  0.01it/s, v_num=16, train_loss=0.370, valid_loss=0.359, valid_AUC=0.500]\n",
      "Epoch 0: 100%|██████████| 13/13 [09:08<00:00,  0.02it/s, v_num=18, train_loss=0.479, valid_loss=0.461, valid_auc=0.500]\n",
      "Epoch 0: 100%|██████████| 13/13 [09:08<00:00,  0.02it/s, v_num=18, train_loss=0.479, valid_loss=0.461, valid_auc=0.500]\n",
      "Epoch 0: 100%|██████████| 13/13 [21:47<00:00,  0.01it/s, v_num=16, train_loss=0.370, valid_loss=0.359, valid_AUC=0.500]\n",
      "Epoch 0: 100%|██████████| 13/13 [09:08<00:00,  0.02it/s, v_num=18, train_loss=0.479, valid_loss=0.461, valid_auc=0.500]\n",
      "Epoch 0: 100%|██████████| 13/13 [21:47<00:00,  0.01it/s, v_num=16, train_loss=0.370, valid_loss=0.359, valid_AUC=0.500]\n",
      "Epoch 0: 100%|██████████| 13/13 [09:08<00:00,  0.02it/s, v_num=18, train_loss=0.479, valid_loss=0.461, valid_auc=0.500]\n",
      "Epoch 0: 100%|██████████| 13/13 [21:49<00:00,  0.01it/s, v_num=16, train_loss=0.370, valid_loss=0.359, valid_AUC=0.500]]\n",
      "Epoch 0: 100%|██████████| 13/13 [09:09<00:00,  0.02it/s, v_num=18, train_loss=0.479, valid_loss=0.461, valid_auc=0.500]\n",
      "Epoch 0: 100%|██████████| 13/13 [21:49<00:00,  0.01it/s, v_num=16, train_loss=0.370, valid_loss=0.359, valid_AUC=0.500]\n",
      "Epoch 0: 100%|██████████| 13/13 [21:49<00:00,  0.01it/s, v_num=16, train_loss=0.370, valid_loss=0.359, valid_AUC=0.500]\n",
      "Epoch 0: 100%|██████████| 13/13 [09:09<00:00,  0.02it/s, v_num=18, train_loss=0.479, valid_loss=0.461, valid_auc=0.500]\n",
      "Epoch 0: 100%|██████████| 13/13 [09:09<00:00,  0.02it/s, v_num=18, train_loss=0.479, valid_loss=0.461, valid_auc=0.500]\n",
      "Epoch 0: 100%|██████████| 13/13 [21:50<00:00,  0.01it/s, v_num=16, train_loss=0.370, valid_loss=0.359, valid_AUC=0.500] \n",
      "Epoch 0: 100%|██████████| 13/13 [21:50<00:00,  0.01it/s, v_num=16, train_loss=0.370, valid_loss=0.359, valid_AUC=0.500]\n",
      "Epoch 0: 100%|██████████| 13/13 [21:50<00:00,  0.01it/s, v_num=16, train_loss=0.370, valid_loss=0.359, valid_AUC=0.500]\n",
      "Epoch 0: 100%|██████████| 13/13 [09:11<00:00,  0.02it/s, v_num=18, train_loss=0.479, valid_loss=0.461, valid_auc=0.500]\n",
      "Epoch 0: 100%|██████████| 13/13 [09:11<00:00,  0.02it/s, v_num=18, train_loss=0.479, valid_loss=0.461, valid_auc=0.500]\n",
      "Epoch 0: 100%|██████████| 13/13 [09:11<00:00,  0.02it/s, v_num=18, train_loss=0.479, valid_loss=0.461, valid_auc=0.500]\n",
      "Epoch 0: 100%|██████████| 13/13 [21:50<00:00,  0.01it/s, v_num=16, train_loss=0.370, valid_loss=0.359, valid_AUC=0.500]\n",
      "Epoch 0: 100%|██████████| 13/13 [09:11<00:00,  0.02it/s, v_num=18, train_loss=0.479, valid_loss=0.461, valid_auc=0.500]\n",
      "Epoch 0: 100%|██████████| 13/13 [21:52<00:00,  0.01it/s, v_num=16, train_loss=0.370, valid_loss=0.359, valid_AUC=0.500]]\n",
      "Epoch 0: 100%|██████████| 13/13 [09:12<00:00,  0.02it/s, v_num=18, train_loss=0.479, valid_loss=0.461, valid_auc=0.500]\n",
      "Epoch 0: 100%|██████████| 13/13 [21:52<00:00,  0.01it/s, v_num=16, train_loss=0.370, valid_loss=0.359, valid_AUC=0.500]\n",
      "Epoch 0: 100%|██████████| 13/13 [21:52<00:00,  0.01it/s, v_num=16, train_loss=0.370, valid_loss=0.359, valid_AUC=0.500]\n",
      "Epoch 0: 100%|██████████| 13/13 [09:12<00:00,  0.02it/s, v_num=18, train_loss=0.479, valid_loss=0.461, valid_auc=0.500]\n",
      "Epoch 0: 100%|██████████| 13/13 [09:12<00:00,  0.02it/s, v_num=18, train_loss=0.479, valid_loss=0.461, valid_auc=0.500]\n",
      "Epoch 0: 100%|██████████| 13/13 [21:53<00:00,  0.01it/s, v_num=16, train_loss=0.370, valid_loss=0.359, valid_AUC=0.500] \n",
      "Epoch 0: 100%|██████████| 13/13 [21:53<00:00,  0.01it/s, v_num=16, train_loss=0.370, valid_loss=0.359, valid_AUC=0.500]\n",
      "Epoch 0: 100%|██████████| 13/13 [09:14<00:00,  0.02it/s, v_num=18, train_loss=0.479, valid_loss=0.461, valid_auc=0.500]\n",
      "Epoch 0: 100%|██████████| 13/13 [09:14<00:00,  0.02it/s, v_num=18, train_loss=0.479, valid_loss=0.461, valid_auc=0.500]\n",
      "Epoch 0: 100%|██████████| 13/13 [21:53<00:00,  0.01it/s, v_num=16, train_loss=0.370, valid_loss=0.359, valid_AUC=0.500]\n",
      "Epoch 0: 100%|██████████| 13/13 [21:53<00:00,  0.01it/s, v_num=16, train_loss=0.370, valid_loss=0.359, valid_AUC=0.500]\n",
      "Epoch 0: 100%|██████████| 13/13 [09:14<00:00,  0.02it/s, v_num=18, train_loss=0.479, valid_loss=0.461, valid_auc=0.500]\n",
      "Epoch 0: 100%|██████████| 13/13 [09:14<00:00,  0.02it/s, v_num=18, train_loss=0.479, valid_loss=0.461, valid_auc=0.500]\n",
      "Epoch 0: 100%|██████████| 13/13 [21:55<00:00,  0.01it/s, v_num=16, train_loss=0.370, valid_loss=0.359, valid_AUC=0.500]]\n",
      "Epoch 0: 100%|██████████| 13/13 [09:15<00:00,  0.02it/s, v_num=18, train_loss=0.479, valid_loss=0.461, valid_auc=0.500]\n",
      "Epoch 0: 100%|██████████| 13/13 [21:55<00:00,  0.01it/s, v_num=16, train_loss=0.370, valid_loss=0.359, valid_AUC=0.500]\n",
      "Epoch 0: 100%|██████████| 13/13 [09:15<00:00,  0.02it/s, v_num=18, train_loss=0.479, valid_loss=0.461, valid_auc=0.500]\n",
      "Epoch 0: 100%|██████████| 13/13 [21:55<00:00,  0.01it/s, v_num=16, train_loss=0.370, valid_loss=0.359, valid_AUC=0.500]\n",
      "Epoch 0: 100%|██████████| 13/13 [09:15<00:00,  0.02it/s, v_num=18, train_loss=0.479, valid_loss=0.461, valid_auc=0.500]\n",
      "Epoch 0: 100%|██████████| 13/13 [21:56<00:00,  0.01it/s, v_num=16, train_loss=0.370, valid_loss=0.359, valid_AUC=0.500] \n",
      "Epoch 0: 100%|██████████| 13/13 [21:56<00:00,  0.01it/s, v_num=16, train_loss=0.370, valid_loss=0.359, valid_AUC=0.500]\n",
      "Epoch 0: 100%|██████████| 13/13 [21:56<00:00,  0.01it/s, v_num=16, train_loss=0.370, valid_loss=0.359, valid_AUC=0.500]\n",
      "Epoch 0: 100%|██████████| 13/13 [09:16<00:00,  0.02it/s, v_num=18, train_loss=0.479, valid_loss=0.461, valid_auc=0.500]\n",
      "Epoch 0: 100%|██████████| 13/13 [09:16<00:00,  0.02it/s, v_num=18, train_loss=0.479, valid_loss=0.461, valid_auc=0.500]\n",
      "Epoch 0: 100%|██████████| 13/13 [09:16<00:00,  0.02it/s, v_num=18, train_loss=0.479, valid_loss=0.461, valid_auc=0.500]\n",
      "Epoch 0: 100%|██████████| 13/13 [21:56<00:00,  0.01it/s, v_num=16, train_loss=0.370, valid_loss=0.359, valid_AUC=0.500]\n",
      "Epoch 0: 100%|██████████| 13/13 [09:16<00:00,  0.02it/s, v_num=18, train_loss=0.479, valid_loss=0.461, valid_auc=0.500]\n",
      "Epoch 0: 100%|██████████| 13/13 [21:58<00:00,  0.01it/s, v_num=16, train_loss=0.370, valid_loss=0.359, valid_AUC=0.500]]\n",
      "Epoch 0: 100%|██████████| 13/13 [09:18<00:00,  0.02it/s, v_num=18, train_loss=0.479, valid_loss=0.461, valid_auc=0.500]\n",
      "Epoch 0: 100%|██████████| 13/13 [21:58<00:00,  0.01it/s, v_num=16, train_loss=0.370, valid_loss=0.359, valid_AUC=0.500]\n",
      "Epoch 0: 100%|██████████| 13/13 [21:58<00:00,  0.01it/s, v_num=16, train_loss=0.370, valid_loss=0.359, valid_AUC=0.500]\n",
      "Epoch 0: 100%|██████████| 13/13 [09:18<00:00,  0.02it/s, v_num=18, train_loss=0.479, valid_loss=0.461, valid_auc=0.500]\n",
      "Epoch 0: 100%|██████████| 13/13 [09:18<00:00,  0.02it/s, v_num=18, train_loss=0.479, valid_loss=0.461, valid_auc=0.500]\n",
      "Epoch 0: 100%|██████████| 13/13 [21:59<00:00,  0.01it/s, v_num=16, train_loss=0.370, valid_loss=0.359, valid_AUC=0.500] \n",
      "Epoch 0: 100%|██████████| 13/13 [09:19<00:00,  0.02it/s, v_num=18, train_loss=0.479, valid_loss=0.461, valid_auc=0.500]\n",
      "Epoch 0: 100%|██████████| 13/13 [21:59<00:00,  0.01it/s, v_num=16, train_loss=0.370, valid_loss=0.359, valid_AUC=0.500]\n",
      "Epoch 0: 100%|██████████| 13/13 [09:19<00:00,  0.02it/s, v_num=18, train_loss=0.479, valid_loss=0.461, valid_auc=0.500]\n",
      "Epoch 0: 100%|██████████| 13/13 [21:59<00:00,  0.01it/s, v_num=16, train_loss=0.370, valid_loss=0.359, valid_AUC=0.500]\n",
      "Epoch 0: 100%|██████████| 13/13 [09:19<00:00,  0.02it/s, v_num=18, train_loss=0.479, valid_loss=0.461, valid_auc=0.500]\n",
      "Epoch 0: 100%|██████████| 13/13 [21:59<00:00,  0.01it/s, v_num=16, train_loss=0.370, valid_loss=0.359, valid_AUC=0.500]\n",
      "Epoch 0: 100%|██████████| 13/13 [09:19<00:00,  0.02it/s, v_num=18, train_loss=0.479, valid_loss=0.461, valid_auc=0.500]\n",
      "Epoch 0: 100%|██████████| 13/13 [22:01<00:00,  0.01it/s, v_num=16, train_loss=0.370, valid_loss=0.359, valid_AUC=0.500]]\n",
      "Epoch 0: 100%|██████████| 13/13 [22:01<00:00,  0.01it/s, v_num=16, train_loss=0.370, valid_loss=0.359, valid_AUC=0.500]\n",
      "Epoch 0: 100%|██████████| 13/13 [22:01<00:00,  0.01it/s, v_num=16, train_loss=0.370, valid_loss=0.359, valid_AUC=0.500]\n",
      "Epoch 0: 100%|██████████| 13/13 [09:21<00:00,  0.02it/s, v_num=18, train_loss=0.479, valid_loss=0.461, valid_auc=0.500]\n",
      "Epoch 0: 100%|██████████| 13/13 [09:21<00:00,  0.02it/s, v_num=18, train_loss=0.479, valid_loss=0.461, valid_auc=0.500]\n",
      "Epoch 0: 100%|██████████| 13/13 [09:21<00:00,  0.02it/s, v_num=18, train_loss=0.479, valid_loss=0.461, valid_auc=0.500]\n",
      "Epoch 19: 100%|██████████| 13/13 [00:02<00:00,  4.44it/s, v_num=20, train_loss=0.235, valid_loss=0.250, valid_auc=0.510]"
     ]
    },
    {
     "name": "stderr",
     "output_type": "stream",
     "text": [
      "`Trainer.fit` stopped: `max_epochs=20` reached.\n"
     ]
    },
    {
     "name": "stdout",
     "output_type": "stream",
     "text": [
      "Epoch 19: 100%|██████████| 13/13 [00:02<00:00,  4.41it/s, v_num=20, train_loss=0.235, valid_loss=0.250, valid_auc=0.510]\n"
     ]
    }
   ],
   "source": [
    "hcdrclassifier = MultiLayerPerceptron3()\n",
    "\n",
    "callbacks = [ModelCheckpoint(save_top_k=1, mode='max', monitor=\"valid_auc\")] # save top 1 model\n",
    "\n",
    "if torch.cuda.is_available(): # if you have GPUs\n",
    "    print(\"GPU is available\")\n",
    "    trainer = pl.Trainer(max_epochs=20, callbacks=callbacks, gpus=1)\n",
    "else:\n",
    "    trainer = pl.Trainer(max_epochs=20, callbacks=callbacks)\n",
    "\n",
    "trainer.fit(model=hcdrclassifier, datamodule=HCDR_DataModule())"
   ]
  },
  {
   "cell_type": "code",
   "execution_count": 26,
   "metadata": {},
   "outputs": [
    {
     "name": "stderr",
     "output_type": "stream",
     "text": [
      "Restoring states from the checkpoint path at /home/pete/Documents/ML_code/ML_Classification_HCDR/lightning_logs/version_20/checkpoints/epoch=19-step=260.ckpt\n",
      "Loaded model weights from the checkpoint at /home/pete/Documents/ML_code/ML_Classification_HCDR/lightning_logs/version_20/checkpoints/epoch=19-step=260.ckpt\n"
     ]
    },
    {
     "name": "stdout",
     "output_type": "stream",
     "text": [
      "Epoch 0: 100%|██████████| 13/13 [25:08<00:00,  0.01it/s, v_num=16, train_loss=0.370, valid_loss=0.359, valid_AUC=0.500]\n",
      "Epoch 0: 100%|██████████| 13/13 [25:08<00:00,  0.01it/s, v_num=16, train_loss=0.370, valid_loss=0.359, valid_AUC=0.500]\n",
      "Epoch 0: 100%|██████████| 13/13 [25:08<00:00,  0.01it/s, v_num=16, train_loss=0.370, valid_loss=0.359, valid_AUC=0.500]\n",
      "Epoch 0: 100%|██████████| 13/13 [12:28<00:00,  0.02it/s, v_num=18, train_loss=0.479, valid_loss=0.461, valid_auc=0.500]\n",
      "Epoch 0: 100%|██████████| 13/13 [12:28<00:00,  0.02it/s, v_num=18, train_loss=0.479, valid_loss=0.461, valid_auc=0.500]\n",
      "Epoch 0: 100%|██████████| 13/13 [12:28<00:00,  0.02it/s, v_num=18, train_loss=0.479, valid_loss=0.461, valid_auc=0.500]\n",
      "Testing DataLoader 0: 100%|██████████| 3/3 [00:00<00:00, 32.66it/s]\n"
     ]
    },
    {
     "data": {
      "text/html": [
       "<pre style=\"white-space:pre;overflow-x:auto;line-height:normal;font-family:Menlo,'DejaVu Sans Mono',consolas,'Courier New',monospace\">┏━━━━━━━━━━━━━━━━━━━━━━━━━━━┳━━━━━━━━━━━━━━━━━━━━━━━━━━━┓\n",
       "┃<span style=\"font-weight: bold\">        Test metric        </span>┃<span style=\"font-weight: bold\">       DataLoader 0        </span>┃\n",
       "┡━━━━━━━━━━━━━━━━━━━━━━━━━━━╇━━━━━━━━━━━━━━━━━━━━━━━━━━━┩\n",
       "│<span style=\"color: #008080; text-decoration-color: #008080\">         test_loss         </span>│<span style=\"color: #800080; text-decoration-color: #800080\">    0.2442777454853058     </span>│\n",
       "└───────────────────────────┴───────────────────────────┘\n",
       "</pre>\n"
      ],
      "text/plain": [
       "┏━━━━━━━━━━━━━━━━━━━━━━━━━━━┳━━━━━━━━━━━━━━━━━━━━━━━━━━━┓\n",
       "┃\u001b[1m \u001b[0m\u001b[1m       Test metric       \u001b[0m\u001b[1m \u001b[0m┃\u001b[1m \u001b[0m\u001b[1m      DataLoader 0       \u001b[0m\u001b[1m \u001b[0m┃\n",
       "┡━━━━━━━━━━━━━━━━━━━━━━━━━━━╇━━━━━━━━━━━━━━━━━━━━━━━━━━━┩\n",
       "│\u001b[36m \u001b[0m\u001b[36m        test_loss        \u001b[0m\u001b[36m \u001b[0m│\u001b[35m \u001b[0m\u001b[35m   0.2442777454853058    \u001b[0m\u001b[35m \u001b[0m│\n",
       "└───────────────────────────┴───────────────────────────┘\n"
      ]
     },
     "metadata": {},
     "output_type": "display_data"
    },
    {
     "data": {
      "text/plain": [
       "[{'test_loss': 0.2442777454853058}]"
      ]
     },
     "execution_count": 26,
     "metadata": {},
     "output_type": "execute_result"
    }
   ],
   "source": [
    "trainer.test(model=hcdrclassifier, datamodule=HCDR_DataModule(), ckpt_path='best')"
   ]
  },
  {
   "cell_type": "code",
   "execution_count": null,
   "metadata": {},
   "outputs": [],
   "source": [
    "# Start tensorboard\n",
    "%load_ext tensorboard\n",
    "%tensorboard --logdir lightning_logs/"
   ]
  },
  {
   "cell_type": "code",
   "execution_count": 21,
   "metadata": {},
   "outputs": [],
   "source": [
    "from torchmetrics import AUROC\n",
    "\n",
    "class MultiLayerPerceptron_2(pl.LightningModule):\n",
    "    def __init__(self, input_size=(1429), hidden_units=(40, 24, 16)):\n",
    "        super().__init__()\n",
    "        \n",
    "        # new PL attributes:\n",
    "        self.train_acc = Accuracy(\"binary\", num_classes=2)  #change to binary class and 2 for HCDR\n",
    "        self.valid_acc = Accuracy(\"binary\", num_classes=2)\n",
    "        self.test_acc = Accuracy(\"binary\",num_classes=2)\n",
    "        \n",
    "        # Model similar to previous section:\n",
    "        input_size = input_size\n",
    "        all_layers = [nn.Linear(input_size, hidden_units[0]),\n",
    "                      nn.ReLU(),\n",
    "                      nn.Linear(hidden_units[0], hidden_units[1]),\n",
    "                      nn.ReLU(),\n",
    "                      nn.Linear(hidden_units[1], hidden_units[2]),\n",
    "                      nn.ReLU(),\n",
    "                      nn.Linear(hidden_units[2], 2),\n",
    "                      nn.Sigmoid()\n",
    "                      ]\n",
    "        # for hidden_unit in hidden_units: \n",
    " \n",
    "        # all_layers.append(nn.Linear(hidden_units[-1], 10)) \n",
    "        self.model = nn.Sequential(*all_layers)\n",
    "\n",
    "    def forward(self, x):\n",
    "        x = self.model(x)\n",
    "        return x\n",
    "\n",
    "    def training_step(self, batch, batch_idx):\n",
    "        # add in a loss layer\n",
    "        x, y = batch\n",
    "        logits = self(x)\n",
    "        loss = nn.functional.cross_entropy(logits, y.squeeze().long())\n",
    "        preds = torch.argmax(logits, dim=1)\n",
    "        self.train_acc.update(preds, y.squeeze().long())\n",
    "        self.log(\"train_loss\", loss, prog_bar=True)\n",
    "        return loss\n",
    "\n",
    "    def on_train_epoch_end(self):\n",
    "        self.log(\"train_acc\", self.train_acc.compute())\n",
    "        self.train_acc.reset()\n",
    "    \n",
    "    def validation_step(self, batch, batch_idx):\n",
    "        x, y = batch\n",
    "        logits = self(x)\n",
    "        loss = nn.functional.cross_entropy(logits, y.squeeze().long())\n",
    "        preds = torch.argmax(logits, dim=1)\n",
    "        self.valid_acc.update(preds, y.squeeze().long())\n",
    "        self.log(\"valid_loss\", loss, prog_bar=True)\n",
    "        return loss\n",
    "    \n",
    "    def on_validation_epoch_end(self):\n",
    "        self.log(\"valid_acc\", self.valid_acc.compute(), prog_bar=True)\n",
    "        self.valid_acc.reset()\n",
    "\n",
    "    def test_step(self, batch, batch_idx):\n",
    "        x, y = batch\n",
    "        logits = self(x)\n",
    "        loss = nn.functional.cross_entropy(logits, y.squeeze().long())\n",
    "        preds = torch.argmax(logits, dim=1)\n",
    "        self.test_acc.update(preds, y.squeeze().long())\n",
    "        self.log(\"test_loss\", loss, prog_bar=True)\n",
    "        self.log(\"test_acc\", self.test_acc.compute(), prog_bar=True)\n",
    "        return loss\n",
    "\n",
    "    def configure_optimizers(self):\n",
    "        optimizer = torch.optim.Adam(self.parameters(), lr=0.001)\n",
    "        return optimizer"
   ]
  },
  {
   "cell_type": "code",
   "execution_count": 22,
   "metadata": {},
   "outputs": [
    {
     "name": "stderr",
     "output_type": "stream",
     "text": [
      "GPU available: False, used: False\n",
      "TPU available: False, using: 0 TPU cores\n",
      "HPU available: False, using: 0 HPUs\n",
      "\n",
      "  | Name      | Type           | Params | Mode \n",
      "-----------------------------------------------------\n",
      "0 | train_acc | BinaryAccuracy | 0      | train\n",
      "1 | valid_acc | BinaryAccuracy | 0      | train\n",
      "2 | test_acc  | BinaryAccuracy | 0      | train\n",
      "3 | model     | Sequential     | 58.6 K | train\n",
      "-----------------------------------------------------\n",
      "58.6 K    Trainable params\n",
      "0         Non-trainable params\n",
      "58.6 K    Total params\n",
      "0.234     Total estimated model params size (MB)\n",
      "12        Modules in train mode\n",
      "0         Modules in eval mode\n"
     ]
    },
    {
     "name": "stdout",
     "output_type": "stream",
     "text": [
      "                                                                           \r"
     ]
    },
    {
     "name": "stderr",
     "output_type": "stream",
     "text": [
      "/home/pete/Documents/ML_code/mlenv/lib/python3.10/site-packages/pytorch_lightning/loops/fit_loop.py:298: The number of training batches (13) is smaller than the logging interval Trainer(log_every_n_steps=50). Set a lower value for log_every_n_steps if you want to see logs for the training epoch.\n"
     ]
    },
    {
     "name": "stdout",
     "output_type": "stream",
     "text": [
      "Epoch 24: 100%|██████████| 13/13 [00:02<00:00,  5.39it/s, v_num=22, train_loss=0.392, valid_loss=0.397, valid_acc=0.916]"
     ]
    },
    {
     "name": "stderr",
     "output_type": "stream",
     "text": [
      "`Trainer.fit` stopped: `max_epochs=25` reached.\n"
     ]
    },
    {
     "name": "stdout",
     "output_type": "stream",
     "text": [
      "Epoch 24: 100%|██████████| 13/13 [00:02<00:00,  5.39it/s, v_num=22, train_loss=0.392, valid_loss=0.397, valid_acc=0.916]\n"
     ]
    }
   ],
   "source": [
    "\n",
    "hcdrclassifier_2 = MultiLayerPerceptron_2()\n",
    "\n",
    "callbacks = [ModelCheckpoint(save_top_k=1, mode='max', monitor=\"valid_acc\")] # save top 1 model\n",
    "\n",
    "if torch.cuda.is_available(): # if you have GPUs\n",
    "    print(\"GPU is available\")\n",
    "    trainer = pl.Trainer(max_epochs=15, callbacks=callbacks, gpus=1)\n",
    "else:\n",
    "    trainer = pl.Trainer(max_epochs=25, callbacks=callbacks)\n",
    "\n",
    "trainer.fit(model=hcdrclassifier_2, datamodule=HCDR_DataModule())"
   ]
  },
  {
   "cell_type": "code",
   "execution_count": 23,
   "metadata": {},
   "outputs": [
    {
     "name": "stderr",
     "output_type": "stream",
     "text": [
      "Restoring states from the checkpoint path at /home/pete/Documents/ML_code/ML_Classification_HCDR/lightning_logs/version_22/checkpoints/epoch=1-step=26.ckpt\n",
      "Loaded model weights from the checkpoint at /home/pete/Documents/ML_code/ML_Classification_HCDR/lightning_logs/version_22/checkpoints/epoch=1-step=26.ckpt\n"
     ]
    },
    {
     "name": "stdout",
     "output_type": "stream",
     "text": [
      "Testing DataLoader 0: 100%|██████████| 3/3 [00:00<00:00, 29.68it/s]\n"
     ]
    },
    {
     "data": {
      "text/html": [
       "<pre style=\"white-space:pre;overflow-x:auto;line-height:normal;font-family:Menlo,'DejaVu Sans Mono',consolas,'Courier New',monospace\">┏━━━━━━━━━━━━━━━━━━━━━━━━━━━┳━━━━━━━━━━━━━━━━━━━━━━━━━━━┓\n",
       "┃<span style=\"font-weight: bold\">        Test metric        </span>┃<span style=\"font-weight: bold\">       DataLoader 0        </span>┃\n",
       "┡━━━━━━━━━━━━━━━━━━━━━━━━━━━╇━━━━━━━━━━━━━━━━━━━━━━━━━━━┩\n",
       "│<span style=\"color: #008080; text-decoration-color: #008080\">         test_acc          </span>│<span style=\"color: #800080; text-decoration-color: #800080\">    0.9186270236968994     </span>│\n",
       "│<span style=\"color: #008080; text-decoration-color: #008080\">         test_loss         </span>│<span style=\"color: #800080; text-decoration-color: #800080\">    0.5212451219558716     </span>│\n",
       "└───────────────────────────┴───────────────────────────┘\n",
       "</pre>\n"
      ],
      "text/plain": [
       "┏━━━━━━━━━━━━━━━━━━━━━━━━━━━┳━━━━━━━━━━━━━━━━━━━━━━━━━━━┓\n",
       "┃\u001b[1m \u001b[0m\u001b[1m       Test metric       \u001b[0m\u001b[1m \u001b[0m┃\u001b[1m \u001b[0m\u001b[1m      DataLoader 0       \u001b[0m\u001b[1m \u001b[0m┃\n",
       "┡━━━━━━━━━━━━━━━━━━━━━━━━━━━╇━━━━━━━━━━━━━━━━━━━━━━━━━━━┩\n",
       "│\u001b[36m \u001b[0m\u001b[36m        test_acc         \u001b[0m\u001b[36m \u001b[0m│\u001b[35m \u001b[0m\u001b[35m   0.9186270236968994    \u001b[0m\u001b[35m \u001b[0m│\n",
       "│\u001b[36m \u001b[0m\u001b[36m        test_loss        \u001b[0m\u001b[36m \u001b[0m│\u001b[35m \u001b[0m\u001b[35m   0.5212451219558716    \u001b[0m\u001b[35m \u001b[0m│\n",
       "└───────────────────────────┴───────────────────────────┘\n"
      ]
     },
     "metadata": {},
     "output_type": "display_data"
    },
    {
     "data": {
      "text/plain": [
       "[{'test_loss': 0.5212451219558716, 'test_acc': 0.9186270236968994}]"
      ]
     },
     "execution_count": 23,
     "metadata": {},
     "output_type": "execute_result"
    }
   ],
   "source": [
    "trainer.test(model=hcdrclassifier_2, datamodule=HCDR_DataModule(), ckpt_path='best')"
   ]
  }
 ],
 "metadata": {
  "kernelspec": {
   "display_name": "my_ml",
   "language": "python",
   "name": "python3"
  },
  "language_info": {
   "codemirror_mode": {
    "name": "ipython",
    "version": 3
   },
   "file_extension": ".py",
   "mimetype": "text/x-python",
   "name": "python",
   "nbconvert_exporter": "python",
   "pygments_lexer": "ipython3",
   "version": "3.10.12"
  },
  "orig_nbformat": 4,
  "vscode": {
   "interpreter": {
    "hash": "82818b14de67220291b5b43de7f72d0e85f2ba15f2bafdeb51a5520bc5ee5ebe"
   }
  }
 },
 "nbformat": 4,
 "nbformat_minor": 2
}
